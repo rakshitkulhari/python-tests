{
 "cells": [
  {
   "cell_type": "raw",
   "id": "d72d915b",
   "metadata": {},
   "source": [
    " 1.What are the two values of the Boolean data type? How do you write them?"
   ]
  },
  {
   "cell_type": "raw",
   "id": "c52bc809",
   "metadata": {},
   "source": [
    "Answer. the two values of boolean data types are .\n",
    "  1. \"True\"\n",
    "  2. \"False\"\n",
    "  we write them by capitalizing the first letter in upper case and the rest is in the lower case."
   ]
  },
  {
   "cell_type": "raw",
   "id": "9cf0f076",
   "metadata": {},
   "source": [
    "2. What are the three different types of Boolean operators?"
   ]
  },
  {
   "cell_type": "raw",
   "id": "940ef68c",
   "metadata": {},
   "source": [
    "Answer. The three boolean operators are.\n",
    "    1. \"and\" operator (if the left and right side values are both true the result will be printed true)\n",
    "    2. \"or\" operator  (if either side of value is true the result will be printed true)\n",
    "    3. \"not\" operator  (if none of the value is true the result will be printed true)"
   ]
  },
  {
   "cell_type": "raw",
   "id": "97c3d7fe",
   "metadata": {},
   "source": [
    "3. Make a list of each Boolean operator's truth tables (i.e. every possible combination of Boolean values for the operator and what it evaluate )."
   ]
  },
  {
   "cell_type": "raw",
   "id": "48b8ea4c",
   "metadata": {},
   "source": [
    "Answer. the list of boolean operators are .\n",
    "\n",
    "NOT Operator:\n",
    "\n",
    "A\tNOT A\n",
    "T\tF\n",
    "F\tT\n",
    "\n",
    "AND Operator:\n",
    "\n",
    "A\tB\tA AND B\n",
    "T\tT\tT\n",
    "T\tF\tF\n",
    "F\tT\tF\n",
    "F\tF\tF\n",
    "\n",
    "OR Operator:\n",
    "\n",
    "A\tB\tA OR B\n",
    "T\tT\tT\n",
    "T\tF\tT\n",
    "F\tT\tT\n",
    "F\tF\tF\n",
    "\n",
    "XOR Operator:\n",
    "\n",
    "A\tB\tA XOR B\n",
    "T\tT\tF\n",
    "T\tF\tT\n",
    "F\tT\tT\n",
    "F\tF\tF\n",
    "\n",
    "NOR Operator:\n",
    "\n",
    "A\tB\tNOR (A, B)\n",
    "T\tT\tF\n",
    "T\tF\tF\n",
    "F\tT\tF\n",
    "F\tF\tT\n",
    "\n",
    "NAND Operator:\n",
    "\n",
    "A\tB\tNAND (A, B)\n",
    "T\tT\tF\n",
    "T\tF\tT\n",
    "F\tT\tT\n",
    "F\tF\tT\n",
    "\n",
    "XNOR Operator:\n",
    "\n",
    "A\tB\tXNOR (A, B)\n",
    "T\tT\tT\n",
    "T\tF\tF\n",
    "F\tT\tF\n",
    "F\tF\tT\n",
    "\n",
    "    "
   ]
  },
  {
   "cell_type": "raw",
   "id": "2bdb8ca3",
   "metadata": {},
   "source": [
    "4. What are the values of the following expressions?\n",
    "(5 > 4) and (3 == 5)\n",
    "not (5 > 4)\n",
    "(5 > 4) or (3 == 5)\n",
    "not ((5 > 4) or (3 == 5))\n",
    "(True and True) and (True == False)\n",
    "(True and True) and (True == False)"
   ]
  },
  {
   "cell_type": "raw",
   "id": "758a5bdf",
   "metadata": {},
   "source": [
    "Answer. (5 > 4) and (3 == 5) the value is ; false\n",
    "not (5 > 4) the value is ; false\n",
    "(5 > 4) or (3 == 5) ; true\n",
    "not ((5 > 4) or (3 == 5)) the value is ; false\n",
    "(True and True) and (True == False) the value is ; false\n",
    "(True and True) and (True == False) the value is ; true"
   ]
  },
  {
   "cell_type": "raw",
   "id": "75a01ce2",
   "metadata": {},
   "source": [
    "5. What are the six comparison operators?"
   ]
  },
  {
   "cell_type": "raw",
   "id": "b19e0977",
   "metadata": {},
   "source": [
    "Answer. the six comparison operators in python are .\n",
    "        '==' (if both values are same the result is true)\n",
    "        '<=' (if left value is smaller or equel than right side value the result will be true)\n",
    "        '>=' (if left value is bigger or equel to right side value the result will be true)\n",
    "        '<'  (if left side value is smaller than right side value the result will be true)\n",
    "        '>'  (if left side value is bigger than right side value the result will be true)\n",
    "        \"!=\" (if both values are not equel the result is true)"
   ]
  },
  {
   "cell_type": "raw",
   "id": "8c488e75",
   "metadata": {},
   "source": [
    "6. How do you tell the difference between the equal to and assignment operators?Describe a condition and when you would use one."
   ]
  },
  {
   "cell_type": "raw",
   "id": "792b4e32",
   "metadata": {},
   "source": [
    "Answer. the difference between equal to and assignment operators is ,\n",
    "\n",
    "equal to;\n",
    "      the symbol of equal to in pyhton is  '==' .\n",
    "      the equal to symbol denotes that each value is same or equal to each othe .\n",
    " example.\n",
    "       x == 5 (this means that the value of x is equal to 5 )\n",
    "       \n",
    "assignment operator ;\n",
    "      the symbol of operator is '='\n",
    "      the shows about the assigned value of left side .\n",
    " example.\n",
    "      x = 5 ( it means that the assigned value os x is 5 )"
   ]
  },
  {
   "cell_type": "raw",
   "id": "17c681ea",
   "metadata": {},
   "source": [
    "7. Identify the three blocks in this code:\n",
    "spam = 0\n",
    "if spam == 10:\n",
    "print('eggs')\n",
    "if spam > 5:\n",
    "print('bacon')\n",
    "else:\n",
    "print('ham')\n",
    "print('spam')\n",
    "print('spam')"
   ]
  },
  {
   "cell_type": "raw",
   "id": "8f968aec",
   "metadata": {},
   "source": [
    "Answer. the three blocks of code in pyhton are .\n",
    " block 1.\n",
    "        if spam == 10:\n",
    "        print(\"eggs\")\n",
    " block 2.\n",
    "        if spam > 5:\n",
    "        print(\"bacon\")\n",
    " block 3.\n",
    "        else:\n",
    "        print('ham')\n",
    "        print('spam')\n",
    "        print('spam')"
   ]
  },
  {
   "cell_type": "raw",
   "id": "10f030b0",
   "metadata": {},
   "source": [
    "8. Write code that prints Hello if 1 is stored in spam, prints Howdy if 2 is stored in spam, and prints Greetings! if anything else is stored in spam."
   ]
  },
  {
   "cell_type": "code",
   "execution_count": 2,
   "id": "920eaa31",
   "metadata": {},
   "outputs": [
    {
     "name": "stdout",
     "output_type": "stream",
     "text": [
      "Greetings!\n"
     ]
    }
   ],
   "source": [
    "#Answer. here is the code\n",
    " \n",
    "spam = 1\n",
    "\n",
    "if spam == 1:\n",
    "    print(\"Hello\")\n",
    "elif spam == 2:\n",
    "    print(\"Howdy\")\n",
    "else:\n",
    "    print(\"Greetings!\")"
   ]
  },
  {
   "cell_type": "raw",
   "id": "77e3f451",
   "metadata": {},
   "source": [
    "9.If your programme is stuck in an endless loop, what keys you’ll press?"
   ]
  },
  {
   "cell_type": "raw",
   "id": "1577f2a0",
   "metadata": {},
   "source": [
    "Answer . if my program is stuck in endless loop i will press the ' ctrl + c ' to stop it ."
   ]
  },
  {
   "cell_type": "raw",
   "id": "aa5bd28a",
   "metadata": {},
   "source": [
    "10. How can you tell the difference between break and continue?"
   ]
  },
  {
   "cell_type": "code",
   "execution_count": 4,
   "id": "a355f9d0",
   "metadata": {
    "collapsed": true
   },
   "outputs": [
    {
     "name": "stdout",
     "output_type": "stream",
     "text": [
      "0\n",
      "1\n",
      "0\n",
      "1\n",
      "3\n",
      "4\n"
     ]
    }
   ],
   "source": [
    "'''Answer. 'break' and 'continue' are two keywords in python that commands the interpreter ,\n",
    "break keyword .\n",
    "              this keyword is used if the current code is stuck in endless loop , by writing that keyword the code will be stopped after desired result.\n",
    "example .'''\n",
    "for i in range(5):\n",
    "    if i == 2:\n",
    "        break\n",
    "    print(i)  \n",
    "   \n",
    "'''continue keyword .\n",
    "                  this keyword is used to continue to the code, by writing continue keyword the code will run continue till the output comes\n",
    "example .'''\n",
    "for i in range(5):\n",
    "    if i == 2:\n",
    "        continue\n",
    "    print(i)\n",
    "\n"
   ]
  },
  {
   "cell_type": "raw",
   "id": "f642d803",
   "metadata": {},
   "source": [
    "11. In a for loop, what is the difference between range(10), range(0, 10), and range(0, 10, 1)?"
   ]
  },
  {
   "cell_type": "raw",
   "id": "4dcea255",
   "metadata": {},
   "source": [
    "Answer . in loop he difference between range(10), range(0, 10), and range(0, 10, 1) are.\n",
    "  range(10);\n",
    "          that range we have on only end value it shows that if we write a code the value starts from the base point and end at value 10,\n",
    "  the starting we assume will be 0 and the end point is 9 ,so the code will pritned from 0 to 9 because we exclude the last value and the last value is 10.\n",
    "  \n",
    "   range(0,10);\n",
    "            in this range we have the starting point 0 not like range(10),so it means that the starting value 0 becuase it is given and the end value is 10 ,so the output will be (0 to 9). \n",
    "            \n",
    " range(0,10,1);\n",
    "            in this range we have a step value so the code will be printed according to the step value from starting value to end value . the output will be (0 to 9)\n",
    "            \n",
    " summary ;\n",
    "         in above ranges the results are same but the conditions in every range is differnt , everyrange has a specific value so the difference may vary on starting values, end values and step values\n",
    "   \n",
    "            \n",
    " "
   ]
  },
  {
   "cell_type": "raw",
   "id": "86bc7503",
   "metadata": {},
   "source": [
    "12. Write a short program that prints the numbers 1 to 10 using a for loop. Then write an equivalent program that prints the numbers 1 to 10 using a while loop."
   ]
  },
  {
   "cell_type": "code",
   "execution_count": 7,
   "id": "57f67d71",
   "metadata": {
    "collapsed": true
   },
   "outputs": [
    {
     "name": "stdout",
     "output_type": "stream",
     "text": [
      "1\n",
      "2\n",
      "3\n",
      "4\n",
      "5\n",
      "6\n",
      "7\n",
      "8\n",
      "9\n",
      "10\n",
      "1\n",
      "2\n",
      "3\n",
      "4\n",
      "5\n",
      "6\n",
      "7\n",
      "8\n",
      "9\n",
      "10\n"
     ]
    }
   ],
   "source": [
    "# Answer . \n",
    "\n",
    "  # for loop\n",
    "for i in range(1, 11):\n",
    "    print(i)\n",
    "    \n",
    "  # while loop\n",
    "i = 1\n",
    "while i <= 10:\n",
    "    print(i)\n",
    "    i += 1\n",
    "    \n"
   ]
  },
  {
   "cell_type": "raw",
   "id": "4524faba",
   "metadata": {},
   "source": [
    "13. If you had a function named bacon() inside a module named spam, how would you call it after importing spam?"
   ]
  },
  {
   "cell_type": "code",
   "execution_count": 8,
   "id": "a3ab69b5",
   "metadata": {
    "collapsed": true
   },
   "outputs": [
    {
     "ename": "ModuleNotFoundError",
     "evalue": "No module named 'spam'",
     "output_type": "error",
     "traceback": [
      "\u001b[0;31m---------------------------------------------------------------------------\u001b[0m",
      "\u001b[0;31mModuleNotFoundError\u001b[0m                       Traceback (most recent call last)",
      "\u001b[0;32m/tmp/ipykernel_15563/282213387.py\u001b[0m in \u001b[0;36m<module>\u001b[0;34m\u001b[0m\n\u001b[1;32m      2\u001b[0m       \u001b[0;31m#   first we import the module than we call the function , here is the code\u001b[0m\u001b[0;34m\u001b[0m\u001b[0;34m\u001b[0m\u001b[0m\n\u001b[1;32m      3\u001b[0m \u001b[0;34m\u001b[0m\u001b[0m\n\u001b[0;32m----> 4\u001b[0;31m \u001b[0;32mimport\u001b[0m \u001b[0mspam\u001b[0m\u001b[0;34m\u001b[0m\u001b[0;34m\u001b[0m\u001b[0m\n\u001b[0m\u001b[1;32m      5\u001b[0m \u001b[0mspam\u001b[0m\u001b[0;34m.\u001b[0m\u001b[0mbacon\u001b[0m\u001b[0;34m(\u001b[0m\u001b[0;34m)\u001b[0m\u001b[0;34m\u001b[0m\u001b[0;34m\u001b[0m\u001b[0m\n",
      "\u001b[0;31mModuleNotFoundError\u001b[0m: No module named 'spam'"
     ]
    }
   ],
   "source": [
    " # answer . \n",
    "       #   first we import the module than we call the function , here is the code\n",
    "        \n",
    "import spam\n",
    "spam.bacon()"
   ]
  },
  {
   "cell_type": "code",
   "execution_count": null,
   "id": "262bb68c",
   "metadata": {},
   "outputs": [],
   "source": []
  }
 ],
 "metadata": {
  "kernelspec": {
   "display_name": "Python 3 (ipykernel)",
   "language": "python",
   "name": "python3"
  },
  "language_info": {
   "codemirror_mode": {
    "name": "ipython",
    "version": 3
   },
   "file_extension": ".py",
   "mimetype": "text/x-python",
   "name": "python",
   "nbconvert_exporter": "python",
   "pygments_lexer": "ipython3",
   "version": "3.10.6"
  }
 },
 "nbformat": 4,
 "nbformat_minor": 5
}
