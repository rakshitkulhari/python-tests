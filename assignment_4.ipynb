{
 "cells": [
  {
   "cell_type": "raw",
   "id": "eff9bffd",
   "metadata": {},
   "source": [
    "1. What exactly is []?"
   ]
  },
  {
   "cell_type": "raw",
   "id": "36547959",
   "metadata": {},
   "source": [
    "Answer.\n",
    "     [] it is a square bracket that denots list in python . lists are data types in pyhton"
   ]
  },
  {
   "cell_type": "raw",
   "id": "1f7ef637",
   "metadata": {},
   "source": [
    "2. In a list of values stored in a variable called spam, how would you assign the value 'hello' as the third value? (Assume [2, 4, 6, 8, 10] are in spam.)"
   ]
  },
  {
   "cell_type": "code",
   "execution_count": 3,
   "id": "b0e35d85",
   "metadata": {},
   "outputs": [
    {
     "name": "stdout",
     "output_type": "stream",
     "text": [
      "[2, 4, 6, 'hello', 8, 10]\n"
     ]
    }
   ],
   "source": [
    "#Answer. \n",
    "     # to assign \"hello\" value in list we would use a function 'insert' here is a code ,\n",
    "spam = [2,4,6,8,10]\n",
    "spam.insert(3,\"hello\")\n",
    "print(spam)"
   ]
  },
  {
   "cell_type": "markdown",
   "id": "07e72b98",
   "metadata": {},
   "source": [
    "# Let's pretend the spam includes the list ['a', 'b', 'c', 'd'] for the next three queries."
   ]
  },
  {
   "cell_type": "raw",
   "id": "eb0b2b75",
   "metadata": {},
   "source": [
    "3. What is the value of spam[int(int('3' * 2) / 11)]?"
   ]
  },
  {
   "cell_type": "code",
   "execution_count": 5,
   "id": "8f0f0fd0",
   "metadata": {},
   "outputs": [
    {
     "name": "stdout",
     "output_type": "stream",
     "text": [
      "[3]\n"
     ]
    }
   ],
   "source": [
    "#Answer.\n",
    "     # the value of spam is\n",
    "spam = [int(int('3'*2)/11)]\n",
    "print(spam)\n",
    "\n",
    "# so the value of spam variable is 3"
   ]
  },
  {
   "cell_type": "raw",
   "id": "a004cdb8",
   "metadata": {},
   "source": [
    "4. What is the value of spam[-1]?"
   ]
  },
  {
   "cell_type": "raw",
   "id": "0e3b5a76",
   "metadata": {},
   "source": [
    "Answer.\n",
    "      according to givien instructions, value of [-1] is 'd'"
   ]
  },
  {
   "cell_type": "raw",
   "id": "124abc16",
   "metadata": {},
   "source": [
    "5. What is the value of spam[:2]?"
   ]
  },
  {
   "cell_type": "raw",
   "id": "2cd7a6ab",
   "metadata": {},
   "source": [
    "Answer.\n",
    "     the value of spam [:2] is ['a','b','c']"
   ]
  },
  {
   "cell_type": "markdown",
   "id": "98525ad4",
   "metadata": {},
   "source": [
    "# Let's pretend bacon has the list [3.14, 'cat,' 11, 'cat,' True] for the next three questions."
   ]
  },
  {
   "cell_type": "raw",
   "id": "09bb6a5c",
   "metadata": {},
   "source": [
    "6. What is the value of bacon.index('cat')?"
   ]
  },
  {
   "cell_type": "raw",
   "id": "b35cd4b8",
   "metadata": {},
   "source": [
    "Answer.\n",
    "     the value of bacon.index('cat') is 1 and 3"
   ]
  },
  {
   "cell_type": "raw",
   "id": "fdac34aa",
   "metadata": {},
   "source": [
    "7. How does bacon.append(99) change the look of the list value in bacon?"
   ]
  },
  {
   "cell_type": "code",
   "execution_count": 10,
   "id": "e60b2b31",
   "metadata": {},
   "outputs": [
    {
     "name": "stdout",
     "output_type": "stream",
     "text": [
      "the look of changed list is ;\n",
      "[3.14, 'cat', 11, 'cat', 'True', 99]\n"
     ]
    }
   ],
   "source": [
    "#Answer . \n",
    "     #  the look of changed index is \n",
    "bacon = [3.14, 'cat', 11, 'cat', 'True'] \n",
    "bacon.append(99)\n",
    "print('the look of changed list is ;')\n",
    "print(bacon)"
   ]
  },
  {
   "cell_type": "raw",
   "id": "67b4eeed",
   "metadata": {},
   "source": [
    "8. How does bacon.remove('cat') change the look of the list in bacon?"
   ]
  },
  {
   "cell_type": "code",
   "execution_count": 11,
   "id": "7945eea5",
   "metadata": {},
   "outputs": [
    {
     "name": "stdout",
     "output_type": "stream",
     "text": [
      "the look of new changed list is;\n",
      "[3.14, 11, 'cat', 'True']\n"
     ]
    }
   ],
   "source": [
    "#Answer.\n",
    "      # the look of the list will be ,\n",
    "bacon = [3.14, 'cat', 11, 'cat', 'True']\n",
    "bacon.remove('cat')\n",
    "print('the look of new changed list is;')\n",
    "print(bacon)"
   ]
  },
  {
   "cell_type": "raw",
   "id": "2b0e8b15",
   "metadata": {},
   "source": [
    "9. What are the list concatenation and list replication operators?"
   ]
  },
  {
   "cell_type": "code",
   "execution_count": null,
   "id": "54737718",
   "metadata": {},
   "outputs": [],
   "source": [
    "'''Answer. \n",
    " list concatenation ;\n",
    "    it is used to combine two lists togther.\n",
    "example.'''\n",
    "list1 = [1, 2, 3]\n",
    "list2 = [4, 5, 6]\n",
    "list3 = list1 + list2\n",
    "print(list3)  \n",
    "\n",
    "'''list replication operator;\n",
    "               this operator is used to repeat list certian number of times as we wanted.\n",
    " example;'''\n",
    "\n",
    "list1 = [1, 2, 3]\n",
    "list2 = list1 * 2\n",
    "print(list2)  \n",
    "\n",
    "     "
   ]
  },
  {
   "cell_type": "raw",
   "id": "900d3a7c",
   "metadata": {},
   "source": [
    "10. What is difference between the list methods append() and insert()?"
   ]
  },
  {
   "cell_type": "raw",
   "id": "74a89eb9",
   "metadata": {},
   "source": [
    "Answer.\n",
    "     in list method append() is used to add a vlaue at the end of list and insert() is used according to user that on which number he wants to add the value in list, like we can use it in specific position."
   ]
  },
  {
   "cell_type": "raw",
   "id": "c728fe0c",
   "metadata": {},
   "source": [
    "11. What are the two methods for removing items from a list?"
   ]
  },
  {
   "cell_type": "raw",
   "id": "76344816",
   "metadata": {},
   "source": [
    "Answer.\n",
    "   the two functions to remove items from list  are 'remove()' and 'pop()'"
   ]
  },
  {
   "cell_type": "raw",
   "id": "6e9cd14e",
   "metadata": {},
   "source": [
    "12. Describe how list values and string values are identical."
   ]
  },
  {
   "cell_type": "raw",
   "id": "5f23b38e",
   "metadata": {},
   "source": [
    "Answer. list values and string values are similar in some points, here are some points\n",
    " \n",
    "1. both lists and strings can be indexed , means we can access the indivisual element or characters using inexing.\n",
    "\n",
    "2. we can do slicing in both list values and string values.\n",
    "\n",
    "3. we can use lenth function 'len()' in bith list value and string values.\n",
    "\n",
    "4. we can use for loop in in list values and string values.\n",
    "\n",
    "5. we can check if element or character are in list or not by 'in' or 'not in' operators.\n"
   ]
  },
  {
   "cell_type": "raw",
   "id": "882f98a9",
   "metadata": {},
   "source": [
    "13. What's the difference between tuples and lists?"
   ]
  },
  {
   "cell_type": "raw",
   "id": "42c1884c",
   "metadata": {},
   "source": [
    "Answer.\n",
    "  here are some differences between tuples and lists.\n",
    "    \n",
    "lists;\n",
    "1. A list is created by placing items (elements) inside square brackets [], separated by commas.\n",
    "2. Lists are mutable, which means their elements can be changed (added, modified, or deleted) after they are created.\n",
    "\n",
    "tuples;\n",
    "1.The major difference from lists is that tuples are immutable, which means their elements cannot be changed (no addition, modification, or deletion) after they are created.\n",
    "2.A tuple is created by placing items (elements) inside parentheses (), separated by commas."
   ]
  },
  {
   "cell_type": "raw",
   "id": "6f2c9081",
   "metadata": {},
   "source": [
    "14. How do you type a tuple value that only contains the integer 42?"
   ]
  },
  {
   "cell_type": "code",
   "execution_count": null,
   "id": "d98e4425",
   "metadata": {},
   "outputs": [],
   "source": [
    "#Answer.\n",
    "  # for tuple that only contains the integer 42 will be written as.\n",
    "    \n",
    "tuple1 = (42,)\n",
    "\n",
    "    "
   ]
  },
  {
   "cell_type": "raw",
   "id": "80301dd8",
   "metadata": {},
   "source": [
    "15. How do you get a list value's tuple form? How do you get a tuple value's list form?"
   ]
  },
  {
   "cell_type": "code",
   "execution_count": null,
   "id": "71d81284",
   "metadata": {},
   "outputs": [],
   "source": [
    "'''Answer.\n",
    " tuple to list;\n",
    "     to get value of list from tuple we will convert tuple into list by using built in function 'list()',here is a code '''\n",
    "tuple1 = (1, 2, 3, 4)\n",
    "list1 = list(tuple1)\n",
    "print(list1)  \n",
    "\n",
    "# in above code tuple is converted to list, now we can get values of lists.\n",
    "\n",
    "'''list to tuple;\n",
    "        to get tuple value from list we can convert list into tuple using function 'tuple()'.\n",
    "    example '''\n",
    "\n",
    "list1 = [1, 2, 3, 4]\n",
    "tuple1 = tuple(list1)\n",
    "print(tuple1)  \n",
    "\n",
    " # in this code list is changed in tuple so we can get the tuple value."
   ]
  },
  {
   "cell_type": "raw",
   "id": "9e9919f3",
   "metadata": {},
   "source": [
    "16. Variables that \"contain\" list values are not necessarily lists themselves. Instead, what do they contain?"
   ]
  },
  {
   "cell_type": "raw",
   "id": "69b2ac3c",
   "metadata": {},
   "source": [
    "Answer. to the \n",
    "    variables that 'contain' list values are not necessarily lists themselves. instead they contain data to the location in memory where list is stored."
   ]
  },
  {
   "cell_type": "raw",
   "id": "866e86b0",
   "metadata": {},
   "source": [
    "17. How do you distinguish between copy.copy() and copy.deepcopy()?"
   ]
  },
  {
   "cell_type": "raw",
   "id": "9c99f616",
   "metadata": {},
   "source": [
    "Answer.\n",
    "   copy.copy() and copy.deepcopy() are two methods of copy module. copy.copy() method makes the shallow copy of object and it does't include chuld objects but copy.deepcopy() method makes the deep copy of objects that includes the child objects."
   ]
  }
 ],
 "metadata": {
  "kernelspec": {
   "display_name": "Python 3 (ipykernel)",
   "language": "python",
   "name": "python3"
  },
  "language_info": {
   "codemirror_mode": {
    "name": "ipython",
    "version": 3
   },
   "file_extension": ".py",
   "mimetype": "text/x-python",
   "name": "python",
   "nbconvert_exporter": "python",
   "pygments_lexer": "ipython3",
   "version": "3.10.6"
  }
 },
 "nbformat": 4,
 "nbformat_minor": 5
}
