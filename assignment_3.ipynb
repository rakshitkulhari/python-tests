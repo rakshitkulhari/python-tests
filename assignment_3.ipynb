{
 "cells": [
  {
   "cell_type": "raw",
   "id": "aa171664",
   "metadata": {},
   "source": [
    "1. Why are functions advantageous to have in your programs?"
   ]
  },
  {
   "cell_type": "raw",
   "id": "8638bb52",
   "metadata": {},
   "source": [
    "Answer.\n",
    "     functions are advantageous in our programs here are some points why ,\n",
    "1. by using functons we  don't have to write large programs we can complete the task by simply using functions.\n",
    "2. we can use function multiple times instead of writing code again and again\n",
    "3. we don't have to show how the functions does only user has to know that what the function is doing , so we don't have to show complex details\n",
    "4. its easier to debug in functions because we can do the testing and debuging independently.\n",
    "5. many of functions are well named so its easier to understand what does the block of code actually doing."
   ]
  },
  {
   "cell_type": "raw",
   "id": "c642037b",
   "metadata": {},
   "source": [
    "2. When does the code in a function run: when it's specified or when it's called?"
   ]
  },
  {
   "cell_type": "raw",
   "id": "5454a10c",
   "metadata": {},
   "source": [
    "Answer.\n",
    "      the function in code run  when it's called not when it's specified."
   ]
  },
  {
   "cell_type": "raw",
   "id": "f2900868",
   "metadata": {},
   "source": [
    "3. What statement creates a function?"
   ]
  },
  {
   "cell_type": "raw",
   "id": "533c2321",
   "metadata": {},
   "source": [
    "Answer.\n",
    "     'def' statement creates a function in python."
   ]
  },
  {
   "cell_type": "raw",
   "id": "61fcf943",
   "metadata": {},
   "source": [
    "4. What is the difference between a function and a function call?"
   ]
  },
  {
   "cell_type": "code",
   "execution_count": null,
   "id": "45545c3d",
   "metadata": {},
   "outputs": [],
   "source": [
    "'''Answer.\n",
    "      function and function call are two different things but related to each other because,\n",
    "\n",
    "function ;\n",
    "         a function is named sequence of statements that runs the code . when we use function write specfic name and sequence of statement.\n",
    "example ;'''\n",
    "def introduction():\n",
    "  print(\"Hello, this is my first function\")\n",
    "\n",
    "introduction()\n",
    "\n",
    "# in this example 'introduction' is function .\n",
    "\n",
    "'''function call ;\n",
    "                 it is used to excuates the code of function . it consists of function name and the list of arguments enclosed in parentheses.'''\n",
    "# in above example 'interoduction ()' is function call"
   ]
  },
  {
   "cell_type": "raw",
   "id": "52d61fa8",
   "metadata": {},
   "source": [
    "5. How many global scopes are there in a Python program? How many local scopes?"
   ]
  },
  {
   "cell_type": "raw",
   "id": "eac3ae88",
   "metadata": {},
   "source": [
    "Answer.\n",
    "      there is only one golbal scope per program in python. local scopes are created whenever function is called , so there will be every time new local scope is creared when the function is called.\n",
    "    "
   ]
  },
  {
   "cell_type": "raw",
   "id": "93dcbfde",
   "metadata": {},
   "source": [
    "6. What happens to variables in a local scope when the function call returns?"
   ]
  },
  {
   "cell_type": "raw",
   "id": "0b654080",
   "metadata": {},
   "source": [
    "Answer.\n",
    "      when the function call returns the variables will be  forgotten because the local scope is destroyed means the won't exist and affect anything outside function."
   ]
  },
  {
   "cell_type": "raw",
   "id": "f06ae3c4",
   "metadata": {},
   "source": [
    "7. What is the concept of a return value? Is it possible to have a return value in an expression?"
   ]
  },
  {
   "cell_type": "code",
   "execution_count": 1,
   "id": "a15cebe9",
   "metadata": {},
   "outputs": [
    {
     "name": "stdout",
     "output_type": "stream",
     "text": [
      "3\n",
      "5\n"
     ]
    }
   ],
   "source": [
    "'''Answer.\n",
    "      return is a keyword that is used when the function is called to do oprations in code to excuates the result. return value is the result of return keyword's opration that function wants to do in program.\n",
    "      \n",
    "example.'''\n",
    "def add(a, b):\n",
    "    return a + b\n",
    "\n",
    "result = add(1, 2)  # return values\n",
    "print(result)  \n",
    "\n",
    "  #it is possible to have a expression in return value , here is a example,\n",
    "summ = add(1, 2)+2 # expression in return value\n",
    "print(summ) "
   ]
  },
  {
   "cell_type": "raw",
   "id": "d41d94ec",
   "metadata": {},
   "source": [
    "8. If a function does not have a return statement, what is the return value of a call to that function?"
   ]
  },
  {
   "cell_type": "raw",
   "id": "22a613ea",
   "metadata": {},
   "source": [
    "Answer. \n",
    "      if a function does not have a return statement the return value of a call to that function will be null"
   ]
  },
  {
   "cell_type": "raw",
   "id": "11898d64",
   "metadata": {},
   "source": [
    "9. How do you make a function variable refer to the global variable?"
   ]
  },
  {
   "cell_type": "code",
   "execution_count": null,
   "id": "616604bd",
   "metadata": {},
   "outputs": [],
   "source": [
    "'''Answer.\n",
    "     we can make a global variable into function variable  by writing 'globle' keyword and assigning the variable inside the function. here is a example'''\n",
    "\n",
    "x = 10 \n",
    "\n",
    "def func():\n",
    "    global x\n",
    "\n",
    "func()\n",
    "print(x)"
   ]
  },
  {
   "cell_type": "raw",
   "id": "73b21a73",
   "metadata": {},
   "source": [
    "10. What is the data type of None?"
   ]
  },
  {
   "cell_type": "raw",
   "id": "1d6d79cd",
   "metadata": {},
   "source": [
    "Answer.\n",
    "      none have the special data type .it is the only object that has its own data type and it is 'nonetype'"
   ]
  },
  {
   "cell_type": "raw",
   "id": "1d56c858",
   "metadata": {},
   "source": [
    "11. What does the sentence import areallyourpetsnamederic do?"
   ]
  },
  {
   "cell_type": "raw",
   "id": "98bb01f6",
   "metadata": {},
   "source": [
    "Answer.\n",
    "     the sentence in 'import areallyourpetsnamederic' is used to import 'areallyourpetsnamederic' named module or library in code."
   ]
  },
  {
   "cell_type": "raw",
   "id": "603f5ee2",
   "metadata": {},
   "source": [
    "12. If you had a bacon() feature in a spam module, what would you call it after importing spam?"
   ]
  },
  {
   "cell_type": "code",
   "execution_count": null,
   "id": "001605ed",
   "metadata": {},
   "outputs": [],
   "source": [
    "#Answer. \n",
    "     # here is a example how will we use it in code\n",
    "      \n",
    "import spam\n",
    "\n",
    "spam.bacon()\n"
   ]
  },
  {
   "cell_type": "raw",
   "id": "25878d8e",
   "metadata": {},
   "source": [
    "13. What can you do to save a programme from crashing if it encounters an error?"
   ]
  },
  {
   "cell_type": "code",
   "execution_count": null,
   "id": "b39356ce",
   "metadata": {},
   "outputs": [],
   "source": [
    "'''Answer .\n",
    "      to save a program from crashing we would use exception handling, in exception handling we uses try/except block to avoid error in programme.\n",
    "      \n",
    " example ;'''\n",
    " \n",
    "try:\n",
    "  print(x)\n",
    "except:\n",
    "  print(\"Some issue with x\")"
   ]
  },
  {
   "cell_type": "raw",
   "id": "8bbc317a",
   "metadata": {},
   "source": [
    "14. What is the purpose of the try clause? What is the purpose of the except clause?"
   ]
  },
  {
   "cell_type": "raw",
   "id": "5bbe850d",
   "metadata": {},
   "source": [
    "Answer. purpose of try and except clause are ,\n",
    "  \n",
    "try ;\n",
    "    in try block we write the code that we want to do in programm to excuate desired result\n",
    "    \n",
    "except ;\n",
    "      in this block wirte the problem that we assume can be give us error in try block ,so we wom't receve any error in programme.\n",
    "    "
   ]
  }
 ],
 "metadata": {
  "kernelspec": {
   "display_name": "Python 3 (ipykernel)",
   "language": "python",
   "name": "python3"
  },
  "language_info": {
   "codemirror_mode": {
    "name": "ipython",
    "version": 3
   },
   "file_extension": ".py",
   "mimetype": "text/x-python",
   "name": "python",
   "nbconvert_exporter": "python",
   "pygments_lexer": "ipython3",
   "version": "3.10.6"
  }
 },
 "nbformat": 4,
 "nbformat_minor": 5
}
