{
 "cells": [
  {
   "cell_type": "raw",
   "id": "c1e017e5",
   "metadata": {},
   "source": [
    "1. What is a lambda function in Python, and how does it differ from a regular function?\n"
   ]
  },
  {
   "cell_type": "raw",
   "id": "06c71b3d",
   "metadata": {},
   "source": [
    "Answer. Lambda functions are small, anonymous functions defined with the lambda keyword.They can take any number of arguments but can only have one expression.The expression is evaluated and returned when the function is called.they are different form other functions because they do not hav parenthesis at the end we have to set parameters in lambda functions after the lambda functions."
   ]
  },
  {
   "cell_type": "raw",
   "id": "1401e018",
   "metadata": {},
   "source": [
    "2. Can a lambda function in Python have multiple arguments? If yes, how can you define and use\n",
    "them?"
   ]
  },
  {
   "cell_type": "code",
   "execution_count": null,
   "id": "88d1746d",
   "metadata": {},
   "outputs": [],
   "source": [
    "#answer. yes,lambda function can have multiple arguments in pyhton. here is aexample;\n",
    "\n",
    "add = lambda x, y, z: x + y + z  #in this code we have 3 arguments\n",
    "\n",
    "\n",
    "result = add(2, 3, 4)  \n",
    "print(result)\n"
   ]
  },
  {
   "cell_type": "raw",
   "id": "abf08199",
   "metadata": {},
   "source": [
    "3. How are lambda functions typically used in Python? Provide an example use case.\n"
   ]
  },
  {
   "cell_type": "code",
   "execution_count": null,
   "id": "1835c0f2",
   "metadata": {},
   "outputs": [],
   "source": [
    "#Answer . here is a example ;\n",
    "\n",
    "multiply = lambda x, y: x * y\n",
    "\n",
    "result = multiply(2, 3) \n",
    "print(result)\n"
   ]
  },
  {
   "cell_type": "raw",
   "id": "c0b740cd",
   "metadata": {},
   "source": [
    "4. What are the advantages and limitations of lambda functions compared to regular functions in\n",
    "Python?"
   ]
  },
  {
   "cell_type": "raw",
   "id": "957371ba",
   "metadata": {},
   "source": [
    "Answer. the advantages and limitations of lambda functions are;\n",
    "\n",
    "advantages;\n",
    "1.Lambda functions are single-expression functions that are not necessarily bound to a name (they can be anonymous). \n",
    "2.Lambda functions are used in places where we need a short function that we will only use once.\n",
    "3. Lambda functions can help us to write functional-style programs in Python, making it easier to write higher-order functions and to apply functional programming concepts.\n",
    "\n",
    "limitations;\n",
    "1.Lambda functions are limited to a single expression. They can't include complex logic or multiple expressions. \n",
    "2.Lambda functions can make debugging a bit more difficult since they don't have a function name.\n",
    "3.Lambda functions can't use certain Python statements like assert, or use assignments inside them, due to syntactical restrictions. "
   ]
  },
  {
   "cell_type": "raw",
   "id": "40eccc17",
   "metadata": {},
   "source": [
    "5. Are lambda functions in Python able to access variables defined outside of their own scope?\n",
    "Explain with an example."
   ]
  },
  {
   "cell_type": "code",
   "execution_count": 1,
   "id": "652443b3",
   "metadata": {},
   "outputs": [
    {
     "name": "stdout",
     "output_type": "stream",
     "text": [
      "16\n"
     ]
    }
   ],
   "source": [
    "#Answer . yes lambda functions in python are able to access variable defined outside of their own scope;\n",
    "#example;\n",
    "\n",
    "outside_var = 12\n",
    "\n",
    "\n",
    "my_lambda = lambda x: x + outside_var\n",
    "\n",
    "\n",
    "result = my_lambda(4)  \n",
    "\n",
    "print(result)\n"
   ]
  },
  {
   "cell_type": "raw",
   "id": "08c71e5f",
   "metadata": {},
   "source": [
    "6. Write a lambda function to calculate the square of a given number."
   ]
  },
  {
   "cell_type": "code",
   "execution_count": null,
   "id": "c57e701b",
   "metadata": {},
   "outputs": [],
   "source": [
    "#Answer.\n",
    "\n",
    "square = lambda x: x ** 2\n",
    "\n",
    "\n",
    "result = square(7)  \n",
    "\n",
    "print(result)\n"
   ]
  },
  {
   "cell_type": "raw",
   "id": "bdb88f70",
   "metadata": {},
   "source": [
    "7. Create a lambda function to find the maximum value in a list of integers."
   ]
  },
  {
   "cell_type": "code",
   "execution_count": 5,
   "id": "5f8894c0",
   "metadata": {},
   "outputs": [
    {
     "name": "stdout",
     "output_type": "stream",
     "text": [
      "9\n"
     ]
    }
   ],
   "source": [
    "#Answer.\n",
    "\n",
    "numbers = [5, 7, 1, 3, 9, 0, 2]\n",
    "           \n",
    "find_max = lambda x, y: x if x > y else y\n",
    "\n",
    "\n",
    "max_value = reduce(find_max, numbers)\n",
    "\n",
    "print(max_value)  \n"
   ]
  },
  {
   "cell_type": "raw",
   "id": "9f86939c",
   "metadata": {},
   "source": [
    "8. Implement a lambda function to filter out all the even numbers from a list of integers.\n"
   ]
  },
  {
   "cell_type": "code",
   "execution_count": 6,
   "id": "10399ad9",
   "metadata": {},
   "outputs": [
    {
     "name": "stdout",
     "output_type": "stream",
     "text": [
      "[0, 2]\n"
     ]
    }
   ],
   "source": [
    "#Answer.\n",
    "\n",
    "numbers = [5, 7, 1, 3, 9, 0, 2]\n",
    "\n",
    "\n",
    "filter_even = lambda x: x % 2 == 0\n",
    "even_numbers = list(filter(filter_even, numbers))\n",
    "\n",
    "print(even_numbers)  \n",
    "\n",
    "   "
   ]
  },
  {
   "cell_type": "raw",
   "id": "0b3a3ad3",
   "metadata": {},
   "source": [
    "9. Write a lambda function to sort a list of strings in ascending order based on the length of each\n",
    "string."
   ]
  },
  {
   "cell_type": "code",
   "execution_count": 7,
   "id": "f5ff4161",
   "metadata": {},
   "outputs": [
    {
     "name": "stdout",
     "output_type": "stream",
     "text": [
      "['a', 'is', 'great', 'Python', 'language', 'programming']\n"
     ]
    }
   ],
   "source": [
    "#answer\n",
    "\n",
    "strings = [\"Python\", \"is\", \"a\", \"great\", \"programming\", \"language\"]\n",
    "\n",
    "\n",
    "sorted_strings = sorted(strings, key=lambda x: len(x))\n",
    "\n",
    "print(sorted_strings) \n",
    "\n"
   ]
  },
  {
   "cell_type": "raw",
   "id": "ac7063fd",
   "metadata": {},
   "source": [
    "10. Create a lambda function that takes two lists as input and returns a new list containing the\n",
    "common elements between the two lists."
   ]
  },
  {
   "cell_type": "code",
   "execution_count": null,
   "id": "ce1f6cb9",
   "metadata": {},
   "outputs": [],
   "source": [
    "#Answer.\n",
    "\n",
    "list1 = [1, 2, 3, 4, 5]\n",
    "list2 = [4, 5, 6, 7, 8]\n",
    "\n",
    "find_common = lambda a, b: list(filter(lambda x: x in a, b))\n",
    "\n",
    "\n",
    "common_elements = find_common(set(list1), set(list2))\n",
    "\n",
    "print(common_elements)\n"
   ]
  },
  {
   "cell_type": "raw",
   "id": "cce67efc",
   "metadata": {},
   "source": [
    "11. Write a recursive function to calculate the factorial of a given positive integer.\n"
   ]
  },
  {
   "cell_type": "code",
   "execution_count": 8,
   "id": "ca465a2d",
   "metadata": {},
   "outputs": [
    {
     "name": "stdout",
     "output_type": "stream",
     "text": [
      "120\n"
     ]
    }
   ],
   "source": [
    "#answer.\n",
    "def factorial(n):\n",
    "    if n == 0:\n",
    "        return 1\n",
    "    else:\n",
    "        return n * factorial(n - 1)\n",
    "    \n",
    "print(factorial(5))  \n"
   ]
  },
  {
   "cell_type": "raw",
   "id": "75659456",
   "metadata": {},
   "source": [
    "12. Implement a recursive function to compute the nth Fibonacci number.\n"
   ]
  },
  {
   "cell_type": "code",
   "execution_count": 10,
   "id": "a4603ccf",
   "metadata": {},
   "outputs": [
    {
     "name": "stdout",
     "output_type": "stream",
     "text": [
      "21\n"
     ]
    }
   ],
   "source": [
    "#Answer\n",
    "def fibonacci(n):\n",
    "    if n <= 0:\n",
    "        return \"Input should be a positive integer.\"\n",
    "    elif n == 1:\n",
    "        return 0\n",
    "    elif n == 2:\n",
    "        return 1\n",
    "    else:\n",
    "        return fibonacci(n - 1) + fibonacci(n - 2)\n",
    "    \n",
    "print(fibonacci(9))  \n"
   ]
  },
  {
   "cell_type": "raw",
   "id": "abd67bea",
   "metadata": {},
   "source": [
    "13. Create a recursive function to find the sum of all the elements in a given list.\n"
   ]
  },
  {
   "cell_type": "code",
   "execution_count": null,
   "id": "cc7d44b2",
   "metadata": {},
   "outputs": [],
   "source": [
    "#answer.\n",
    "def list_sum(lst):\n",
    "    if not lst:\n",
    "        return 0\n",
    "    else:\n",
    "        return lst[0] + list_sum(lst[1:])\n",
    "    \n",
    "numbers = [1, 2, 3, 4, 5]\n",
    "print(list_sum(numbers)) \n"
   ]
  },
  {
   "cell_type": "raw",
   "id": "cf7c14ad",
   "metadata": {},
   "source": [
    "14. Write a recursive function to determine whether a given string is a palindrome.\n"
   ]
  },
  {
   "cell_type": "code",
   "execution_count": 11,
   "id": "afe36dca",
   "metadata": {},
   "outputs": [
    {
     "name": "stdout",
     "output_type": "stream",
     "text": [
      "True\n",
      "False\n"
     ]
    }
   ],
   "source": [
    "#Answer.\n",
    "def is_palindrome(s):\n",
    "\n",
    "    if len(s) == 0:\n",
    "        return True\n",
    "    \n",
    "    elif s[0] != s[-1]:\n",
    "        return False\n",
    "    else:\n",
    "        return is_palindrome(s[1:-1])\n",
    "    \n",
    "print(is_palindrome('radar'))  \n",
    "print(is_palindrome('python'))  \n",
    "  \n"
   ]
  },
  {
   "cell_type": "raw",
   "id": "8c813fb3",
   "metadata": {},
   "source": [
    "15. Implement a recursive function to find the greatest common divisor (GCD) of two positive integers."
   ]
  },
  {
   "cell_type": "code",
   "execution_count": 12,
   "id": "1456b643",
   "metadata": {},
   "outputs": [
    {
     "name": "stdout",
     "output_type": "stream",
     "text": [
      "6\n"
     ]
    }
   ],
   "source": [
    "#Answer.\n",
    "def gcd(a, b):\n",
    "    if b == 0:\n",
    "        return a\n",
    "    else:\n",
    "        return gcd(b, a % b)\n",
    "    \n",
    "print(gcd(48, 18))  \n",
    "\n"
   ]
  },
  {
   "cell_type": "code",
   "execution_count": null,
   "id": "29746425",
   "metadata": {},
   "outputs": [],
   "source": []
  }
 ],
 "metadata": {
  "kernelspec": {
   "display_name": "Python 3 (ipykernel)",
   "language": "python",
   "name": "python3"
  },
  "language_info": {
   "codemirror_mode": {
    "name": "ipython",
    "version": 3
   },
   "file_extension": ".py",
   "mimetype": "text/x-python",
   "name": "python",
   "nbconvert_exporter": "python",
   "pygments_lexer": "ipython3",
   "version": "3.10.12"
  }
 },
 "nbformat": 4,
 "nbformat_minor": 5
}
