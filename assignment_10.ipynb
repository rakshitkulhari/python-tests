{
 "cells": [
  {
   "cell_type": "raw",
   "id": "8fb004f0",
   "metadata": {},
   "source": [
    "1. What is the role of try and exception block?"
   ]
  },
  {
   "cell_type": "code",
   "execution_count": 13,
   "id": "5f368758",
   "metadata": {},
   "outputs": [
    {
     "name": "stdout",
     "output_type": "stream",
     "text": [
      "2\n",
      "The 'try except' executed\n"
     ]
    }
   ],
   "source": [
    "'''Answer.\n",
    "     try and except block are used in exception handling, they are used in i progamm to handle runtime errors which are known as exceptions.The try block contains the code that might raise an exception, and the except block contains the code that will be executed if an exception is raised.\n",
    "     \n",
    "example;'''\n",
    "\n",
    "try:\n",
    "  x = 2\n",
    "  print(x)\n",
    "except:\n",
    "  print(\"There is no X\")\n",
    "finally:\n",
    "  print(\"The 'try except' executed\")\n"
   ]
  },
  {
   "cell_type": "raw",
   "id": "8158ce0b",
   "metadata": {},
   "source": [
    "2. What is the syntax for a basic try-except block?"
   ]
  },
  {
   "cell_type": "raw",
   "id": "3ed3d55f",
   "metadata": {},
   "source": [
    "Answer.\n",
    "      the syntax for basic try-except block is try block contains the code that might raise an exception and the wxcept block contains the code that the code will be executed if exceptions is raised."
   ]
  },
  {
   "cell_type": "raw",
   "id": "70e3e460",
   "metadata": {},
   "source": [
    "3. What happens if an exception occurs inside a try block and there is no matching\n",
    "except block?"
   ]
  },
  {
   "cell_type": "raw",
   "id": "6d1b13cd",
   "metadata": {},
   "source": [
    "Answer.\n",
    "     we can have multiple except blocks do if there is not matching in one except ,there might be match in another block. but if we won't find any match in except block the program will be terminate with error message, and the excepttion will we raised with keyword 'raise'."
   ]
  },
  {
   "cell_type": "raw",
   "id": "53979101",
   "metadata": {},
   "source": [
    "4. What is the difference between using a bare except block and specifying a specific\n",
    "exception type?"
   ]
  },
  {
   "cell_type": "code",
   "execution_count": null,
   "id": "c37a76b7",
   "metadata": {},
   "outputs": [],
   "source": [
    "'''Answer. these two blocks are used to catch exceptions differently, here are the differences;\n",
    "\n",
    "1.specific exception types;\n",
    "                        When we specify a particular exception type in an except block, we telling Python to execute that block only when an exception of that specific type is thrown. This allows us to have different handling logic for different types of exceptions.'''\n",
    "                        \n",
    "#example;\n",
    "try:\n",
    "    n = int(input(\"Please enter the numerator: \"))\n",
    "    d = int(input(\"Please enter the denominator: \"))\n",
    "\n",
    "    result = n / d\n",
    "    print(\"Result:\", result)\n",
    "\n",
    "except ValueError:\n",
    "    print(\"Please enter valid integers for the numerator and denominator.\")\n",
    "  \n",
    "2.bare except block;\n",
    "                 If we use a bare except block with an except statement with no specific exception type, Python will execute that block for all exceptions that are thrown in the try block. This is often used as a \"catch-all\" for any exceptions we didn't explicitly handle.\n",
    "                 \n",
    "#example;\n",
    "\n",
    "try:\n",
    "  print(x)\n",
    "except:\n",
    "  print(\"Some issue with x\")"
   ]
  },
  {
   "cell_type": "raw",
   "id": "85d31532",
   "metadata": {},
   "source": [
    "5. Can you have nested try-except blocks in Python? If yes, then give an example.\n"
   ]
  },
  {
   "cell_type": "code",
   "execution_count": 14,
   "id": "70c8b0e2",
   "metadata": {},
   "outputs": [
    {
     "name": "stdout",
     "output_type": "stream",
     "text": [
      "A ValueError occurred in the inner try block.\n",
      "An exception occurred in the outer try block: invalid literal for int() with base 10: 'invalid_int'\n"
     ]
    }
   ],
   "source": [
    "#Answer.  yes we can have nested try-except blocks in python here is an example;\n",
    "\n",
    "try:\n",
    "    # Outer try block\n",
    "    try: \n",
    "        value = int(\"invalid_int\")  \n",
    "    except ValueError:\n",
    "        print(\"A ValueError occurred in the inner try block.\")\n",
    "        raise  \n",
    "except Exception as e:\n",
    "    # Outer except block\n",
    "    print(\"An exception occurred in the outer try block:\", str(e))\n",
    "\n",
    "    "
   ]
  },
  {
   "cell_type": "raw",
   "id": "ae15384f",
   "metadata": {},
   "source": [
    "6. Can we use multiple exception blocks, if yes then give an example."
   ]
  },
  {
   "cell_type": "code",
   "execution_count": null,
   "id": "60b82912",
   "metadata": {},
   "outputs": [],
   "source": [
    "#Answer.\n",
    "try:\n",
    "    x = 1 / 0\n",
    "except ZeroDivisionError:\n",
    "    print(\"You can't divide by zero!\")\n",
    "except TypeError:\n",
    "    print(\"There was a type error!\")\n",
    "except Exception as e:\n",
    "    print(\"There was some other kind of error: \", e)\n"
   ]
  },
  {
   "cell_type": "raw",
   "id": "e9727191",
   "metadata": {},
   "source": [
    "7. Write the reason due to which following errors are raised:\n",
    "a. EOFError\n",
    "b. FloatingPointError\n",
    "c. IndexError\n",
    "d. MemoryError\n",
    "e. OverflowError\n",
    "f. TabError\n",
    "g. ValueError"
   ]
  },
  {
   "cell_type": "raw",
   "id": "90862827",
   "metadata": {},
   "source": [
    "Answer.\n",
    "a. EOFERROR; Raised when the input() function hits an end-of-file condition (EOF).\n",
    "b. Floatingpointerror;  Raised when a floating point operation fails.\n",
    "c. IndexError; Raised when a sequence subscript (index) is out of range.\n",
    "d. MemoryError; Raised when an operation runs out of memory.\n",
    "e. overflowError; Raised when the result of an arithmetic operation is too large to be expressed.  \n",
    "f. TabError; Raised when indentation contains mixed tabs and spaces.\n",
    "g. ValueError; Raised when a built-in operation or function receives an argument that has the right type but an inappropriate value."
   ]
  },
  {
   "cell_type": "raw",
   "id": "a0c2cf2f",
   "metadata": {},
   "source": [
    "8. Write code for the following given scenario and add try-exception block to it.\n",
    "a. Program to divide two numbers\n",
    "b. Program to convert a string to an integer\n",
    "c. Program to access an element in a list\n",
    "d. Program to handle a specific exception\n",
    "e. Program to handle any exception"
   ]
  },
  {
   "cell_type": "code",
   "execution_count": null,
   "id": "104b5cdd",
   "metadata": {},
   "outputs": [],
   "source": [
    "#Answer;\n",
    "#a. Program to divide two numbers\n",
    "try:\n",
    "    num1 = 10\n",
    "    num2 = 0\n",
    "    result = num1 / num2\n",
    "except ZeroDivisionError:\n",
    "    print(\"You can't divide by zero!\")\n",
    "\n",
    "#b. Program to convert a string to an integer\n",
    "try:\n",
    "    s = 'abc'\n",
    "    num = int(s)\n",
    "except ValueError:\n",
    "    print(\"The string cannot be converted to an integer!\")\n",
    "    \n",
    "#c. Program to access an element in a list\n",
    "try:\n",
    "    lst = [1, 2, 3]\n",
    "    print(lst[5])\n",
    "except IndexError:\n",
    "    print(\"You're trying to access an index that is out of range!\")\n",
    "    \n",
    "#d. Program to handle a specific exception\n",
    "try:\n",
    "    with open('non_existent_file.txt', 'r') as f:\n",
    "        contents = f.read()\n",
    "except FileNotFoundError:\n",
    "    print(\"The file you're trying to open doesn't exist!\")\n",
    "    \n",
    "#e. Program to handle any exception\n",
    "\n",
    "try:\n",
    "    x = 1 / 'a'\n",
    "except Exception as e:\n",
    "    print(\"There was some kind of error: \", str(e))\n",
    "\n"
   ]
  }
 ],
 "metadata": {
  "kernelspec": {
   "display_name": "Python 3 (ipykernel)",
   "language": "python",
   "name": "python3"
  },
  "language_info": {
   "codemirror_mode": {
    "name": "ipython",
    "version": 3
   },
   "file_extension": ".py",
   "mimetype": "text/x-python",
   "name": "python",
   "nbconvert_exporter": "python",
   "pygments_lexer": "ipython3",
   "version": "3.10.12"
  }
 },
 "nbformat": 4,
 "nbformat_minor": 5
}
