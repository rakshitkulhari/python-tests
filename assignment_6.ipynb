{
 "cells": [
  {
   "cell_type": "raw",
   "id": "94e6cc16",
   "metadata": {},
   "source": [
    "Q.1. What are keywords in python? Using the keyword library, print all the python keywords."
   ]
  },
  {
   "cell_type": "code",
   "execution_count": 7,
   "id": "7b6b6e01",
   "metadata": {},
   "outputs": [
    {
     "name": "stdout",
     "output_type": "stream",
     "text": [
      "['False', 'None', 'True', 'and', 'as', 'assert', 'async', 'await', 'break', 'class', 'continue', 'def', 'del', 'elif', 'else', 'except', 'finally', 'for', 'from', 'global', 'if', 'import', 'in', 'is', 'lambda', 'nonlocal', 'not', 'or', 'pass', 'raise', 'return', 'try', 'while', 'with', 'yield']\n"
     ]
    }
   ],
   "source": [
    "'''Answer.\n",
    "     keywords are reserved words in python.They are used to define the syntax and structure of the Python language.keywords have specific use in python and they are immutable and case sensitive.\n",
    "     \n",
    "we can access all keywords by using code ,here is how;'''\n",
    "\n",
    "import keyword\n",
    "print(keyword.kwlist)  # its a function to access the keywords"
   ]
  },
  {
   "cell_type": "raw",
   "id": "830c8f11",
   "metadata": {},
   "source": [
    "Q.2. What are the rules to create variables in python?"
   ]
  },
  {
   "cell_type": "raw",
   "id": "c91f6800",
   "metadata": {},
   "source": [
    "Answer.\n",
    " here are some rules to create a variable in python;\n",
    "1. variable can have characters ,digits and under scores.\n",
    "2. a variable can only start with under score or a character .\n",
    "3. variables are case sensitive and we can not use keyword as a variable.\n",
    "4. variables supports dynamic typing means we don't have to declare about variable use in their name like other programming languages.\n"
   ]
  },
  {
   "cell_type": "raw",
   "id": "608d9968",
   "metadata": {},
   "source": [
    "Q.3. What are the standards and conventions followed for the nomenclature of variables in\n",
    "python to improve code readability and maintainability?"
   ]
  },
  {
   "cell_type": "raw",
   "id": "f42dd53e",
   "metadata": {},
   "source": [
    "Answer.\n",
    "    here are some points for the standards and conventions followed for the nomenclature of variables in\n",
    "python to improve code readability and maintainability ;\n",
    " \n",
    "1. variable name should be discripive and meaningful for easy readability.\n",
    "2. words should be in lower case and separated with underscores for readability.\n",
    "3. normal varable should not have double underscores becaues some special variables have underscores at starting and ending."
   ]
  },
  {
   "cell_type": "raw",
   "id": "6ca416e0",
   "metadata": {},
   "source": [
    "Q.4. What will happen if a keyword is used as a variable name?"
   ]
  },
  {
   "cell_type": "code",
   "execution_count": null,
   "id": "9012c8bd",
   "metadata": {},
   "outputs": [],
   "source": [
    "Answer.\n",
    "   keywords have specific use in pyhton if keywords are used in pyhton as variable name it will throw an error."
   ]
  },
  {
   "cell_type": "raw",
   "id": "0de6a2f1",
   "metadata": {},
   "source": [
    "Q.5. For what purpose def keyword is used?"
   ]
  },
  {
   "cell_type": "code",
   "execution_count": null,
   "id": "65f46cf4",
   "metadata": {},
   "outputs": [],
   "source": [
    "#Answer.\n",
    "   #  purpose of def keyword in python is to define a function.\n",
    "example;\n",
    "def greet():\n",
    "    print(\"Hello, World!\")\n",
    "\n",
    "greet() "
   ]
  },
  {
   "cell_type": "raw",
   "id": "5b12cb2d",
   "metadata": {},
   "source": [
    "Q.6. What is the operation of this special character ‘\\’?"
   ]
  },
  {
   "cell_type": "raw",
   "id": "00a0bd26",
   "metadata": {},
   "source": [
    "Answer.\n",
    "  backslash '\\' is used in string literals to specify special characters which can't be inserted into the string in any other way."
   ]
  },
  {
   "cell_type": "raw",
   "id": "132d6b99",
   "metadata": {},
   "source": [
    "Q.7. Give an example of the following conditions:\n",
    "(i) Homogeneous list\n",
    "(ii) Heterogeneous set\n",
    "(iii) Homogeneous tuple"
   ]
  },
  {
   "cell_type": "raw",
   "id": "66053d60",
   "metadata": {},
   "source": [
    "Answer.\n",
    " (i) Homogeneous list;\n",
    " \n",
    "list1 = [1, 2, 3, 4,5]  all elements are integers\n",
    "\n",
    "(ii) Heterogeneous set\n",
    "set1 = {1, 2.2, \"three\"} \n",
    "\n",
    "(iii) Homogeneous tuple\n",
    "   \n",
    "tuple1 = (1, 2, 3, 4, 5)\n",
    "\n"
   ]
  },
  {
   "cell_type": "raw",
   "id": "828bdaa1",
   "metadata": {},
   "source": [
    "Q.8. Explain the mutable and immutable data types with proper explanation & examples."
   ]
  },
  {
   "cell_type": "code",
   "execution_count": 30,
   "id": "ff3cec36",
   "metadata": {},
   "outputs": [
    {
     "name": "stdout",
     "output_type": "stream",
     "text": [
      "['a', 2, 3]\n",
      "139682665791856\n"
     ]
    }
   ],
   "source": [
    "'''Answer.\n",
    "  mutable data types;\n",
    "    in this type we can change or modify the items. lists, dictionaries and sets are mutable.\n",
    "example;'''\n",
    "list1 = [1, 2, 3]\n",
    "list1[0] = 'a'  # we have changed the value of index 0 \n",
    "print(list1) \n",
    "\n",
    " #dictonary\n",
    "dict1 = {'name': 'Alice', 'age': 25}\n",
    "dict1['age'] = 26  # here we changed the value of age\n",
    "\n",
    "# sets\n",
    "set1 = {1, 2, 3}\n",
    "set1.add(4)  # the value will be added\n",
    "\n",
    "'''immutable data type;\n",
    "       we can not do any change or modification in this data type. tuples, intgers,floats and strings are immutable, they will throw error if we mofify them.\n",
    "\n",
    "example;'''\n",
    "\n",
    "string1 = \"Hello World!\"\n",
    "string1[0] = 'h'  # This will raise a TypeError.\n",
    "\n",
    "\n",
    "# tuple;\n",
    "\n",
    "tuple1 = (1, 2, 3)\n",
    "tuple1[0] = 'a'  # This will raise a TypeError."
   ]
  },
  {
   "cell_type": "raw",
   "id": "a80f0059",
   "metadata": {},
   "source": [
    "Q.9. Write a code to create the given structure using only for loop.\n",
    "*\n",
    "***\n",
    "*****\n",
    "*******\n",
    "*********"
   ]
  },
  {
   "cell_type": "code",
   "execution_count": 8,
   "id": "b6ac7345",
   "metadata": {},
   "outputs": [
    {
     "name": "stdout",
     "output_type": "stream",
     "text": [
      "* \n",
      "* * \n",
      "* * * \n",
      "* * * * \n",
      "* * * * * \n"
     ]
    }
   ],
   "source": [
    "#answer.\n",
    "   # the code for the '*' structure is ;\n",
    "for i in range(5):\n",
    "    for j in range(i+1):\n",
    "        print('*', end=' ')\n",
    "    print()   "
   ]
  },
  {
   "cell_type": "raw",
   "id": "245fb747",
   "metadata": {},
   "source": [
    "Q.10. Write a code to create the given structure using while loop.\n",
    "|||||||||\n",
    "|||||||\n",
    "|||||\n",
    "|||\n",
    "|"
   ]
  },
  {
   "cell_type": "code",
   "execution_count": 34,
   "id": "6f38259a",
   "metadata": {},
   "outputs": [
    {
     "name": "stdout",
     "output_type": "stream",
     "text": [
      "||||||||||\n",
      "||||||||\n",
      "||||||\n",
      "||||\n",
      "||\n"
     ]
    }
   ],
   "source": [
    "# Abswer.\n",
    "#  code for given structure using while loop;\n",
    "structure = 5\n",
    "while structure >0:\n",
    "    print('|' * structure * 2)\n",
    "    structure -= 1\n",
    "    "
   ]
  },
  {
   "cell_type": "code",
   "execution_count": null,
   "id": "ee7287f8",
   "metadata": {},
   "outputs": [],
   "source": []
  }
 ],
 "metadata": {
  "kernelspec": {
   "display_name": "Python 3 (ipykernel)",
   "language": "python",
   "name": "python3"
  },
  "language_info": {
   "codemirror_mode": {
    "name": "ipython",
    "version": 3
   },
   "file_extension": ".py",
   "mimetype": "text/x-python",
   "name": "python",
   "nbconvert_exporter": "python",
   "pygments_lexer": "ipython3",
   "version": "3.10.6"
  }
 },
 "nbformat": 4,
 "nbformat_minor": 5
}
