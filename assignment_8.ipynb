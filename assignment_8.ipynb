{
 "cells": [
  {
   "cell_type": "raw",
   "id": "05260f39",
   "metadata": {},
   "source": [
    "1. In Python, what is the difference between a built-in function and a user-defined function? Provide an\n",
    "example of each."
   ]
  },
  {
   "cell_type": "code",
   "execution_count": null,
   "id": "bc59274b",
   "metadata": {},
   "outputs": [],
   "source": [
    "'''Answer. here are som e differences between user defined function and built in function ;\n",
    "1.buit- in function; These are the functions that are pre-defined in Python, meaning they're already available for use when we write a python program , we can use them directly. we don't need to define them .\n",
    "example; print(),int(),float(),len(),list(),etc.'''\n",
    "\n",
    "my_list = [1,2,3,4,5,6,7]\n",
    "print(len(my_list))  # len() and print() are the built-in function.\n",
    "\n",
    "'''2. user defined function; These are the functions that are defined by the users themselves to perform a specific task. They are not available by default and need to be defined in the code before being called.\n",
    "example;'''\n",
    "\n",
    "def introduction(): # we built a user defined function\n",
    "print(\"Hello, my name is python\")\n",
    "\n",
    "\n",
    "introduction()  # here we called the function\n"
   ]
  },
  {
   "cell_type": "raw",
   "id": "8375457e",
   "metadata": {},
   "source": [
    "2. How can you pass arguments to a function in Python? Explain the difference between positional\n",
    "arguments and keyword arguments."
   ]
  },
  {
   "cell_type": "code",
   "execution_count": null,
   "id": "c777a0a3",
   "metadata": {},
   "outputs": [],
   "source": [
    "'''answer.\n",
    "1. positional arguments; These are the arguments that need to be passed in the order (position) in which they are defined in the function.\n",
    "in example below, 'introduction' function got two arguments 'fname' and 'lname' . when we call the function with arguments ;jhon' and 'alter' will be assigned as 'fname' and 'lname'.'''\n",
    "\n",
    "def introduction(fname, lname):\n",
    "  print(\"My first name is \" + fname + \" and my last name is \" + lname)\n",
    "\n",
    "introduction(\"John\", \"Alter\")\n",
    "\n",
    "\n",
    "'''2. keyword arguments;These are the arguments are used as their keyword when they are passed to the function. With keyword arguments, we can specify the argument name along with its value.\n",
    "in example below we passed two arguments ('fname' and 'lname') with their value when functions was called.'''\n",
    "\n",
    "def introduction(fname, lname):\n",
    "  print(\"My first name is \" + fname + \" and my last name is \" + lname)\n",
    "\n",
    "introduction(fname = \"John\", lname = \"Alter\")\n",
    "                "
   ]
  },
  {
   "cell_type": "raw",
   "id": "2475f7e1",
   "metadata": {},
   "source": [
    "3. What is the purpose of the return statement in a function? Can a function have multiple return\n",
    "statements? Explain with an example."
   ]
  },
  {
   "cell_type": "code",
   "execution_count": null,
   "id": "2577a4cb",
   "metadata": {},
   "outputs": [],
   "source": [
    "#Answer. the purpose of return statement in a function is ;The return stops the execution of the function when it is encountered within the function. It returns the value to the statement where the function is called.\n",
    " \n",
    "# yes a function can have multiple return statements here's a example;\n",
    "def is_even_or_odd(num):\n",
    "    if num % 2 == 0:\n",
    "        return \"Even\"\n",
    "    else:\n",
    "        return \"Odd\"    # there are two return statments in code\n",
    "\n",
    "print(is_even_or_odd(3)) \n",
    "print(is_even_or_odd(4))\n",
    "\n",
    " "
   ]
  },
  {
   "cell_type": "raw",
   "id": "fe1c8b70",
   "metadata": {},
   "source": [
    "4. What are lambda functions in Python? How are they different from regular functions? Provide an\n",
    "example where a lambda function can be useful."
   ]
  },
  {
   "cell_type": "code",
   "execution_count": null,
   "id": "8c59354b",
   "metadata": {},
   "outputs": [],
   "source": [
    "'''answer.\n",
    "lambda functions;the are small, anonymous functions defined with the lambda keyword.\n",
    "They can take any number of arguments but can only have one expression.they do not require any return statement. lambda functions are only useful for smaller tasks not like other built-in functionsand we can not use them in if and for loops.\n",
    "example;'''\n",
    "square = lambda x: x ** 2\n",
    "print(square(5)) "
   ]
  },
  {
   "cell_type": "raw",
   "id": "00fba466",
   "metadata": {},
   "source": [
    "5. How does the concept of \"scope\" apply to functions in Python? Explain the difference between local\n",
    "scope and global scope."
   ]
  },
  {
   "cell_type": "code",
   "execution_count": null,
   "id": "174059ed",
   "metadata": {},
   "outputs": [],
   "source": [
    "'''Answer. \"scopes\" define where varaibles can be accessed in program.they refers to visiblity and objects in different parts of code.\n",
    "here are some differences between local scope and globel scope;\n",
    "\n",
    "local scope;\n",
    "          they can only be used within function of code which is declared. if we access them outside the funcion we will get an error.\n",
    "          \n",
    "globel scope;\n",
    "           they are used outside of functions,means we can access them anywhere in the program. if we have to use them inside the function we have to use \"global\" keyword.\n",
    "           \n",
    "here is a example of both;'''\n",
    "\n",
    "global_v = 45  \n",
    "\n",
    "def function():\n",
    "    \n",
    "    local_var = 23 \n",
    "    print(global_v)  # the global variable\n",
    "    print(local_v)   # the local variable\n",
    "\n",
    "func()\n",
    "\n",
    "print(global_var)  # accessed the global variable\n",
    "print(local_var)   # This will give an error because we called it out side function\n"
   ]
  },
  {
   "cell_type": "raw",
   "id": "9f667524",
   "metadata": {},
   "source": [
    "6. How can you use the \"return\" statement in a Python function to return multiple values?"
   ]
  },
  {
   "cell_type": "code",
   "execution_count": null,
   "id": "e226a0b9",
   "metadata": {},
   "outputs": [],
   "source": [
    "#Answer.\n",
    " #    we can use \"return\" statement in lists,tuples and dictionaries to return multple values.\n",
    "#example;\n",
    "\n",
    "# on lists\n",
    "def lists():\n",
    "    return [1, 2, 3]\n",
    "\n",
    "lists = a,b,c\n",
    "print(a)  \n",
    "print(b)\n",
    "print(c) \n",
    "\n",
    "# an example to calculate numbers.\n",
    "def calculate():\n",
    "    a = float(input(\"the first number\"))\n",
    "    b = float(input(\"the second number\"))\n",
    "    \n",
    "    add = a+b\n",
    "    diff = a-b\n",
    "    mult = a*b\n",
    "    \n",
    "    return {\"add\":add,\"diff\":diff,\"mult\": mult}\n",
    "result = calculate()\n",
    "\n",
    "print(result[\"add\"])\n",
    "print(result[\"diff\"])\n",
    "print(result[\"mult\"])\n"
   ]
  },
  {
   "cell_type": "raw",
   "id": "a0fd3d10",
   "metadata": {},
   "source": [
    "7. What is the difference between the \"pass by value\" and \"pass by reference\" concepts when it\n",
    "comes to function arguments in Python?"
   ]
  },
  {
   "cell_type": "raw",
   "id": "c82a0c4d",
   "metadata": {},
   "source": [
    "Answer ;here are some differences between 'pass by value' and 'pass by reference' ;\n",
    "\n",
    "pass by value;\n",
    "           when we call a function with a set of arguments, the data is copied into the function. This means that we can modify the arguments however we please and that we won't be able to alter the state of the program outside the function.\n",
    "           \n",
    "pass by reference;\n",
    "                the argument we are passing to the function is a reference to a variable that already exists in memory rather than an independent copy of that variable."
   ]
  },
  {
   "cell_type": "raw",
   "id": "f44ba55b",
   "metadata": {},
   "source": [
    "8. Create a function that can intake integer or decimal value and do following operations:\n",
    "a. Logarithmic function (log x)\n",
    "b. Exponential function (exp(x))\n",
    "c. Power function with base 2 (2x)\n",
    "d. Square root"
   ]
  },
  {
   "cell_type": "code",
   "execution_count": 2,
   "id": "919a3cd3",
   "metadata": {},
   "outputs": [
    {
     "name": "stdout",
     "output_type": "stream",
     "text": [
      "Logarithm of x:  1.6094379124341003\n",
      "Exponential of x:  148.4131591025766\n",
      "2 power x:  32\n",
      "Square root of x:  2.23606797749979\n"
     ]
    }
   ],
   "source": [
    "# answer. the code for requested operations is;\n",
    "\n",
    "import math\n",
    "\n",
    "def perform_operations(x):\n",
    "    log_x = math.log(x)  # Logarithmic function\n",
    "    exp_x = math.exp(x)  # Exponential function\n",
    "    pow_x = 2**x  # Power function with base 2\n",
    "    sqrt_x = math.sqrt(x)  # Square root\n",
    "    \n",
    "    return log_x, exp_x, pow_x, sqrt_x\n",
    "\n",
    "# Test the function with an example input\n",
    "log_x, exp_x, pow_x, sqrt_x = perform_operations(5)\n",
    "print(\"Logarithm of x: \", log_x)\n",
    "print(\"Exponential of x: \", exp_x)\n",
    "print(\"2 power x: \", pow_x)\n",
    "print(\"Square root of x: \", sqrt_x)\n"
   ]
  },
  {
   "cell_type": "raw",
   "id": "6f5dcb8f",
   "metadata": {},
   "source": [
    "9. Create a function that takes a full name as an argument and returns first name and last name."
   ]
  },
  {
   "cell_type": "code",
   "execution_count": 3,
   "id": "38fbd659",
   "metadata": {},
   "outputs": [
    {
     "name": "stdout",
     "output_type": "stream",
     "text": [
      "First Name:  vikash\n",
      "Last Name:  kumar\n"
     ]
    }
   ],
   "source": [
    "#Answer \n",
    "\n",
    "def name(full_name):\n",
    "    \n",
    "    names = full_name.split(\" \")      # split the full name on spaces\n",
    "\n",
    "\n",
    "    # return the first and last name\n",
    "    first_name = names[0]\n",
    "    last_name = names[-1]\n",
    "\n",
    "    return first_name, last_name\n",
    "\n",
    "first_name, last_name = name(\"vikash kumar\")\n",
    "print(\"First Name: \", first_name)\n",
    "print(\"Last Name: \", last_name)"
   ]
  },
  {
   "cell_type": "code",
   "execution_count": null,
   "id": "34d7f8f9",
   "metadata": {},
   "outputs": [],
   "source": []
  }
 ],
 "metadata": {
  "kernelspec": {
   "display_name": "Python 3 (ipykernel)",
   "language": "python",
   "name": "python3"
  },
  "language_info": {
   "codemirror_mode": {
    "name": "ipython",
    "version": 3
   },
   "file_extension": ".py",
   "mimetype": "text/x-python",
   "name": "python",
   "nbconvert_exporter": "python",
   "pygments_lexer": "ipython3",
   "version": "3.10.12"
  }
 },
 "nbformat": 4,
 "nbformat_minor": 5
}
