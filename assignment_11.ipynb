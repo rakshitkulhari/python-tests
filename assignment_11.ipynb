{
 "cells": [
  {
   "cell_type": "raw",
   "id": "c88cba2f",
   "metadata": {},
   "source": [
    "1. What is the role of the 'else' block in a try-except statement? Provide an example\n",
    "scenario where it would be useful."
   ]
  },
  {
   "cell_type": "code",
   "execution_count": null,
   "id": "77085c99",
   "metadata": {},
   "outputs": [],
   "source": [
    "#answers. the else block allows us to run code without errors.\n",
    "#example;\n",
    "try:\n",
    "  print(\"Good morning today is 17th June\")\n",
    "except:\n",
    "  print(\"Some issue\")\n",
    "else:\n",
    "  print(\"No issues\")"
   ]
  },
  {
   "cell_type": "raw",
   "id": "27fcc075",
   "metadata": {},
   "source": [
    "2. Can a try-except block be nested inside another try-except block? Explain with an\n",
    "example."
   ]
  },
  {
   "cell_type": "code",
   "execution_count": null,
   "id": "a1d7f4ff",
   "metadata": {},
   "outputs": [],
   "source": [
    "#Answer. yes we can nest blocks inside another try-except block.\n",
    "#example;\n",
    "try:\n",
    "    # Outer try block\n",
    "    try:\n",
    "        # Inner try block\n",
    "        value = int(\"invalid_int\")  \n",
    "    except ValueError:\n",
    "        print(\"A ValueError occurred in the inner try block.\")\n",
    "        raise  \n",
    "except Exception as e:\n",
    "    \n",
    "    print(\"An exception occurred in the outer try block:\", str(e))\n"
   ]
  },
  {
   "cell_type": "raw",
   "id": "0b3d83b3",
   "metadata": {},
   "source": [
    "3. How can you create a custom exception class in Python? Provide an example that\n",
    "demonstrates its usage."
   ]
  },
  {
   "cell_type": "code",
   "execution_count": 15,
   "id": "8ab0d1d2",
   "metadata": {},
   "outputs": [
    {
     "name": "stdout",
     "output_type": "stream",
     "text": [
      "Custom Error occurred: Division by zero is not allowed.\n"
     ]
    }
   ],
   "source": [
    "#Answer. we can create a custom exception class by defining a new class that inherits from the built-in Exception class or any of its subclasses.\n",
    "# example;\n",
    "\n",
    "class CustomError(Exception):\n",
    "    def __init__(self, message):\n",
    "        super().__init__(message)\n",
    "\n",
    "\n",
    "def divide_numbers(a, b):\n",
    "    if b == 0:\n",
    "        raise CustomError(\"Division by zero is not allowed.\")\n",
    "    return a / b\n",
    "\n",
    "\n",
    "try:\n",
    "    num1 = 10\n",
    "    num2 = 0\n",
    "    result = divide_numbers(num1, num2)\n",
    "    print(\"Result:\", result)\n",
    "except CustomError as ce:\n",
    "    print(\"Custom Error occurred:\", str(ce))\n",
    "except Exception as e:\n",
    "    print(\"An unexpected error occurred:\", str(e))\n",
    " "
   ]
  },
  {
   "cell_type": "raw",
   "id": "20e9cf7b",
   "metadata": {},
   "source": [
    "4. What are some common exceptions that are built-in to Python?"
   ]
  },
  {
   "cell_type": "raw",
   "id": "a1251611",
   "metadata": {},
   "source": [
    "Answer. list of comman exceptions that are built-in to python ;\n",
    "\n",
    "\n",
    "\n",
    "1.ZeroDivisionError: Raised when the second argument of a division or modulo operation is zero.\n",
    "\n",
    "2.TypeError: Raised when an operation or function is applied to an object of inappropriate type.\n",
    "\n",
    "3.ValueError: Raised when a built-in operation or function receives an argument that has the right type but an inappropriate value.\n",
    "\n",
    "4.IndexError: Raised when a sequence subscript is out of range.\n",
    "\n",
    "5.KeyError: Raised when a dictionary key is not found.\n",
    "\n",
    "6.FileNotFoundError: Raised when a file or directory is requested but doesn’t exist.\n",
    "\n",
    "7.IOError: Raised when an I/O operation (such as a print statement, the built-in open() function or a method of a file object) fails for an I/O-related reason.\n",
    "\n",
    "8.ImportError: Raised when an import statement fails to find the module definition or when a from ... import fails to find a name that is to be imported.\n",
    "\n",
    "9.MemoryError: Raised when an operation runs out of memory.\n",
    "\n",
    "10.OverflowError: Raised when the result of an arithmetic operation is too large to be expressed by the normal number format.\n",
    "\n",
    "11.AttributeError: Raised when an attribute reference or assignment fails.\n",
    "\n",
    "12.SyntaxError: Raised when the parser encounters a syntax error.\n",
    "\n",
    "13.IndentationError: Raised when there is incorrect indentation.\n",
    "\n",
    "14.NameError: Raised when a local or global name is not found.\n"
   ]
  },
  {
   "cell_type": "raw",
   "id": "31752ee2",
   "metadata": {},
   "source": [
    "5. What is logging in Python, and why is it important in software development?"
   ]
  },
  {
   "cell_type": "raw",
   "id": "9f4e7cee",
   "metadata": {},
   "source": [
    "Answer. Logging is a technique for monitoring events that take place when some software is in use.\n",
    "For the creation, operation, and debugging of software, logging is crucial.There are very little odds that you would find the source of the issue if your programme fails and you don't have any logging records."
   ]
  },
  {
   "cell_type": "raw",
   "id": "2cf16aa4",
   "metadata": {},
   "source": [
    "6. Explain the purpose of log levels in Python logging and provide examples of when\n",
    "each log level would be appropriate."
   ]
  },
  {
   "cell_type": "code",
   "execution_count": null,
   "id": "5143f86f",
   "metadata": {},
   "outputs": [],
   "source": [
    "'''Answer. The Python logging module defines several severity levels for log messages. Each level corresponds to the importance or severity of the messages being logged, and provides a way to separate out less important informational messages from more serious warnings or errors.'''\n",
    "\n",
    "#some standered log levels;\n",
    "#1. DEBUG;\n",
    "import logging\n",
    "\n",
    "logging.basicConfig(level=logging.DEBUG)\n",
    "\n",
    "def add(x, y):\n",
    "    logging.debug('Variables are %s and %s', x, y)\n",
    "    return x + y\n",
    "\n",
    "add(1, 2)\n",
    "\n",
    "#2. info;\n",
    "import logging\n",
    "\n",
    "logging.basicConfig(level=logging.INFO)\n",
    "\n",
    "def login(user):\n",
    "    logging.info('User %s logged in', user)\n",
    "\n",
    "login('Admin User')\n",
    "\n",
    "#3.warning;\n",
    "import logging\n",
    "\n",
    "logging.basicConfig(level=logging.WARNING)\n",
    "\n",
    "def MyBalance(amount):\n",
    "    if amount < 40000:\n",
    "        logging.warning('Sorry you have Low balance: %s', amount)\n",
    "\n",
    "MyBalance(10000)\n",
    "\n",
    "#4.Error;\n",
    "import logging\n",
    "\n",
    "logging.basicConfig(level=logging.ERROR)\n",
    "\n",
    "def LetUsDivide(n, d):\n",
    "    try:\n",
    "        result = n / d\n",
    "    except ZeroDivisionError:\n",
    "        logging.error('You are trying to divide by zero, which is not allowed')\n",
    "    else:\n",
    "        return result\n",
    "\n",
    "LetUsDivide(4, 0)\n",
    "\n",
    "#5.Critical error;\n",
    "import logging\n",
    "\n",
    "logging.basicConfig(level=logging.CRITICAL)\n",
    "\n",
    "def LetUsCheckSystem(sys):\n",
    "    if sys != 'OK':\n",
    "        logging.critical('System failure: %s', sys)\n",
    "\n",
    "LetUsCheckSystem('You need to handle the issue now')\n"
   ]
  },
  {
   "cell_type": "raw",
   "id": "59e92547",
   "metadata": {},
   "source": [
    "7. What are log formatters in Python logging, and how can you customise the log\n",
    "message format using formatters?"
   ]
  },
  {
   "cell_type": "code",
   "execution_count": null,
   "id": "647215eb",
   "metadata": {},
   "outputs": [],
   "source": [
    "'''answer.\n",
    "       logging module, a formatter specifies the layout of the log messages. By using formatters, you can include specific pieces of information in your log messages, such as the time of the log, the log level, the message itself, or even file or function where the log message was generated.\n",
    "       \n",
    "we can specify the layout of your log messages by creating a logging.Formatter object and setting it to the formatter attribute of a logging.Handler object.\n",
    "\n",
    "Here's an example;'''\n",
    "import logging\n",
    "\n",
    "# Create a logger\n",
    "logger = logging.getLogger(__name__)\n",
    "logger.setLevel(logging.DEBUG)\n",
    "\n",
    "# Create a handler\n",
    "handler = logging.StreamHandler()\n",
    "\n",
    "# Create a formatter and add it to the handler\n",
    "formatter = logging.Formatter('%(asctime)s - %(name)s - %(levelname)s - %(message)s')\n",
    "handler.setFormatter(formatter)\n",
    "\n",
    "# Add the handler to the logger\n",
    "logger.addHandler(handler)\n",
    "\n",
    "# Log some messages\n",
    "logger.debug('This is a debug message')\n",
    "logger.info('This is an info message')\n",
    "logger.warning('This is a warning message')\n",
    "logger.error('This is an error message')\n",
    "logger.critical('This is a critical message')\n",
    "\n"
   ]
  },
  {
   "cell_type": "raw",
   "id": "8c9c2199",
   "metadata": {},
   "source": [
    "8. How can you set up logging to capture log messages from multiple modules or\n",
    "classes in a Python application?"
   ]
  },
  {
   "cell_type": "code",
   "execution_count": null,
   "id": "0c240198",
   "metadata": {},
   "outputs": [],
   "source": [
    "#ANswer.The typical way to set up logging in a multi-module application is to create a new logger in each module with a unique name, and then configure these loggers as needed. The recommended way to obtain a logger is by calling logging.getLogger(__name__). This will create a logger with the same name as the module's name, ensuring that it's unique.\n",
    "\n",
    "#Here's an example of how you might set up logging in a multi-module application:\n",
    "\n",
    "import logging\n",
    "import myapp.module\n",
    "\n",
    "def main():\n",
    "    logger = logging.getLogger(__name__)\n",
    "    logger.setLevel(logging.DEBUG)\n",
    "\n",
    "    handler = logging.StreamHandler()\n",
    "    formatter = logging.Formatter('%(asctime)s - %(name)s - %(levelname)s - %(message)s')\n",
    "    handler.setFormatter(formatter)\n",
    "\n",
    "    logger.addHandler(handler)\n",
    "\n",
    "    logger.info('This is an info message from main.')\n",
    "    myapp.module.run()\n",
    "\n",
    "if __name__ == '__main__':\n",
    "    main()\n",
    "\n",
    "\n",
    "import logging\n",
    "\n",
    "def run():\n",
    "    logger = logging.getLogger(__name__)\n",
    "    logger.info('This is an info message from myapp.module.')\n"
   ]
  },
  {
   "cell_type": "raw",
   "id": "5f3e34e4",
   "metadata": {},
   "source": [
    "9. What is the difference between the logging and print statements in Python? When\n",
    "should you use logging over print statements in a real-world application?"
   ]
  },
  {
   "cell_type": "raw",
   "id": "062ef835",
   "metadata": {},
   "source": [
    "Answer. here are some differences between logging and print statements in python;\n",
    "1. 'print'; This is a built-in Python function that sends output to the console. It's often used for simple debugging or outputting information to the user. print statements are generally not used in production code, because they don't provide a way to categorize or filter output, and they only print to the console.\n",
    "\n",
    "2. logging;  This is a standard Python module for event logging. It provides a flexible framework for emitting log messages from Python programs, and it's part of the Python Standard Library. Loggers can be configured to provide different output formats and to send output to multiple destinations, such as the console, a file, an email address, a database, etc\n",
    "\n",
    "in real world we can use logging over print statements ;\n",
    "\n",
    "The print statement and logging module in Python serve different purposes and are used in different contexts:\n",
    "\n",
    "    print: This is a built-in Python function that sends output to the console. It's often used for simple debugging or outputting information to the user. print statements are generally not used in production code, because they don't provide a way to categorize or filter output, and they only print to the console.\n",
    "\n",
    "    logging: This is a standard Python module for event logging. It provides a flexible framework for emitting log messages from Python programs, and it's part of the Python Standard Library. Loggers can be configured to provide different output formats and to send output to multiple destinations, such as the console, a file, an email address, a database, etc. They also support different severity levels for log messages (DEBUG, INFO, WARNING, ERROR, CRITICAL), which print does not.\n",
    "\n",
    "In real-world applications, you should generally use logging over print for a few reasons:\n",
    "\n",
    "1.Severity Levels: Logging provides different levels of severity for the messages, allowing you to filter messages based on their importance.\n",
    "\n",
    "2.Flexibility: With logging, you can direct the output to multiple locations and not just the console. You can also change where your log messages go without changing each logging call in your application.\n",
    "\n",
    "3.Performance: Logging can be more performance-friendly than print, especially if you're writing to a file or over a network. With logging, you can buffer your messages or write them asynchronously.\n",
    "    Control: With logging, you can turn logging on or off globally, or in a fine-grained manner, without commenting out print calls.\n"
   ]
  },
  {
   "cell_type": "raw",
   "id": "17f2fdab",
   "metadata": {},
   "source": [
    "10. Write a Python program that logs a message to a file named \"app.log\" with the\n",
    "following requirements:\n",
    "● The log message should be \"Hello, World!\"\n",
    "● The log level should be set to \"INFO.\"\n",
    "● The log file should append new log entries without overwriting previous ones."
   ]
  },
  {
   "cell_type": "code",
   "execution_count": null,
   "id": "af422451",
   "metadata": {},
   "outputs": [],
   "source": [
    "#Answer. here is a code to fulfill the three requirements;\n",
    "import loggin\n",
    "\n",
    "logger = logging.getLogger(__name__)\n",
    "logger.setLevel(logging.INFO)\n",
    "\n",
    "\n",
    "file_handler = logging.fileHandler('app.log', mode='a')  \n",
    "\n",
    "formatter = logging.Formatter('%(asctime)s - %(name)s - %(levelname)s - %(message)s')\n",
    "\n",
    "file_handler.setFormatter(formatter)\n",
    "\n",
    "logger.addHandler(file_handler)\n",
    "\n",
    "logger.info('Hello, World!')\n"
   ]
  },
  {
   "cell_type": "raw",
   "id": "3dc02288",
   "metadata": {},
   "source": [
    "11. Create a Python program that logs an error message to the console and a file named\n",
    "\"errors.log\" if an exception occurs during the program's execution. The error\n",
    "message should include the exception type and a timestamp."
   ]
  },
  {
   "cell_type": "code",
   "execution_count": null,
   "id": "784ee96b",
   "metadata": {},
   "outputs": [],
   "source": [
    "#Answer.\n",
    "import logging\n",
    "from datetime import datetime\n",
    "\n",
    "# Create a custom logger\n",
    "logger = logging.getLogger(__name__)\n",
    "logger.setLevel(logging.ERROR)\n",
    "\n",
    "# Create handlers\n",
    "console_handler = logging.StreamHandler()  # console handler\n",
    "file_handler = logging.FileHandler('errors.log')  # file handler\n",
    "\n",
    "# Create a custom formatter\n",
    "formatter = logging.Formatter('%(asctime)s - %(name)s - %(levelname)s - %(message)s')\n",
    "\n",
    "# Set the formatter for the handlers\n",
    "console_handler.setFormatter(formatter)\n",
    "file_handler.setFormatter(formatter)\n",
    "\n",
    "# Add the handlers to the logger\n",
    "logger.addHandler(console_handler)\n",
    "logger.addHandler(file_handler)\n",
    "\n",
    "def divide_numbers(a, b):\n",
    "    try:\n",
    "        return a / b\n",
    "    except Exception as e:\n",
    "        logger.error(f\"Exception occurred: {type(e).__name__}\")\n",
    "\n",
    "divide_numbers(10, 0) "
   ]
  },
  {
   "cell_type": "code",
   "execution_count": null,
   "id": "c8a3e92e",
   "metadata": {},
   "outputs": [],
   "source": []
  }
 ],
 "metadata": {
  "kernelspec": {
   "display_name": "Python 3 (ipykernel)",
   "language": "python",
   "name": "python3"
  },
  "language_info": {
   "codemirror_mode": {
    "name": "ipython",
    "version": 3
   },
   "file_extension": ".py",
   "mimetype": "text/x-python",
   "name": "python",
   "nbconvert_exporter": "python",
   "pygments_lexer": "ipython3",
   "version": "3.10.12"
  }
 },
 "nbformat": 4,
 "nbformat_minor": 5
}
