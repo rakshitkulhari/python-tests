{
 "cells": [
  {
   "cell_type": "raw",
   "id": "86d5c96f",
   "metadata": {},
   "source": [
    "Q.1. Create two int type variables, apply addition, subtraction, division and multiplications\n",
    "and store the results in variables. Then print the data in the following format by calling the\n",
    "variables:\n",
    "First variable is __ & second variable is __.\n",
    "Addition: __ + __ = __\n",
    "Subtraction: __ - __ = __\n",
    "Multiplication: __ * __ = __\n",
    "Division: __ / __ = __"
   ]
  },
  {
   "cell_type": "code",
   "execution_count": 1,
   "id": "d2946c38",
   "metadata": {},
   "outputs": [
    {
     "name": "stdout",
     "output_type": "stream",
     "text": [
      "First variable is 23 & second variable is 12.\n",
      "Addition: 23 + 12 = 35\n",
      "Subtraction: 23 - 12 = 11\n",
      "Multiplication: 23 * 12 = 276\n",
      "Division: 23 / 12 = 1.9166666666666667\n"
     ]
    }
   ],
   "source": [
    "# Answer.\n",
    "\n",
    "var1 = 23\n",
    "var2 = 12\n",
    "\n",
    "addition = var1 + var2\n",
    "subtraction = var1 - var2\n",
    "multiplication = var1 * var2\n",
    "division = var1 / var2\n",
    "\n",
    "print(f\"First variable is {var1} & second variable is {var2}.\")\n",
    "print(f\"Addition: {var1} + {var2} = {addition}\")\n",
    "print(f\"Subtraction: {var1} - {var2} = {subtraction}\")\n",
    "print(f\"Multiplication: {var1} * {var2} = {multiplication}\")\n",
    "print(f\"Division: {var1} / {var2} = {division}\")\n"
   ]
  },
  {
   "cell_type": "raw",
   "id": "aff4b5d1",
   "metadata": {},
   "source": [
    "Q.2. What is the difference between the following operators:\n",
    "(i) ‘/’ & ‘//’\n",
    "(ii) ‘**’ & ‘^’"
   ]
  },
  {
   "cell_type": "raw",
   "id": "b622a253",
   "metadata": {},
   "source": [
    "Answer.\n",
    " (i) ‘/’ & ‘//’ ; these two operators are used to do division in python ,but there is slight difference between these two operators ;\n",
    " 1. \"/' is a division operator it is used to return the values in floats that represent the quotient of division, example 13/2 returns a float 6.5 .\n",
    " 2. '//' is also a division operator it is used to return the values in highest possible integer number that represent the quotient of division, example; 13//2 returns a integer 6 .\n",
    " \n",
    " (ii) ‘**’ & ‘^’ ;these two operators are used for different purposes in python.\n",
    " 1.'**'it is the exponentiation operator.it raises the number on its left to the power of the number on its right. For example ; 4**3 returns the value 64 .\n",
    " 2.‘^’ is bitwise XOR operator.it is used to do binary operations that represent the numbers, example; 4^2 returns the value 6 because binary representation of 4 is '100' and 2 is '10' so the binary operation will be '110'."
   ]
  },
  {
   "cell_type": "raw",
   "id": "b347022f",
   "metadata": {},
   "source": [
    "Q.3. List the logical operators."
   ]
  },
  {
   "cell_type": "raw",
   "id": "172ad06c",
   "metadata": {},
   "source": [
    "Answer. there sre three logical operators in python ;\n",
    "\n",
    "1.'or' operator;this operator  Returns True if at least one of the statements is true.\n",
    "2. 'and' operator ; this operator return the value true if both statments are true.\n",
    "3. 'not' operator ; this operator returns the value true if the satement is true ."
   ]
  },
  {
   "cell_type": "raw",
   "id": "3199f38d",
   "metadata": {},
   "source": [
    "Q.4. Explain right shift operator and left shift operator with examples."
   ]
  },
  {
   "cell_type": "raw",
   "id": "b80a6dcf",
   "metadata": {},
   "source": [
    "Answer.\n",
    "     right shift and left shift operators are bitwise operators in python . ther are used to operate binary operations on integers in python.\n",
    "     \n",
    "1.right shift operator(>>);  it Shifts the bits of the number to the right by the number of bits specified. Each shift to the right corresponds to dividing the number by 2.\n",
    " example;\n",
    " a = 10        # in binary: 1010\n",
    "result = a >> 2  # result is 2 (in binary: 0010)\n",
    "print(result)   \n",
    "\n",
    "2. left shift operator(<<); it Shifts the bits of the number to the left by the number of bits specified. Each shift to the left corresponds to multiplying the number by 2.\n",
    " example;\n",
    " a = 10        # in binary: 1010\n",
    "result = a << 2  # result is 40 (in binary: 101000)\n",
    "print(result)\n",
    "                           "
   ]
  },
  {
   "cell_type": "raw",
   "id": "6745c83f",
   "metadata": {},
   "source": [
    "Q.5. Create a list containing int type data of length 15. Then write a code to check if 10 is\n",
    "present in the list or not."
   ]
  },
  {
   "cell_type": "code",
   "execution_count": 7,
   "id": "b27ecc5e",
   "metadata": {
    "collapsed": true
   },
   "outputs": [
    {
     "name": "stdout",
     "output_type": "stream",
     "text": [
      "10 is present in list\n"
     ]
    }
   ],
   "source": [
    "#Answer.\n",
    "list1 = [1,2,3,4,5,6,7,8,9,10,11,12,13,14,15] # here is a list if ingegers data type of lenth 15\n",
    "\n",
    "# code to check 10 is there in list\n",
    "\n",
    "if 10 in list1:\n",
    "    print(\"10 is present in list\")\n",
    " \n",
    "else:\n",
    "    print(\"10 is not in not present in list\")\n",
    "\n"
   ]
  },
  {
   "cell_type": "code",
   "execution_count": null,
   "id": "7a623ac3",
   "metadata": {},
   "outputs": [],
   "source": []
  }
 ],
 "metadata": {
  "kernelspec": {
   "display_name": "Python 3 (ipykernel)",
   "language": "python",
   "name": "python3"
  },
  "language_info": {
   "codemirror_mode": {
    "name": "ipython",
    "version": 3
   },
   "file_extension": ".py",
   "mimetype": "text/x-python",
   "name": "python",
   "nbconvert_exporter": "python",
   "pygments_lexer": "ipython3",
   "version": "3.10.12"
  }
 },
 "nbformat": 4,
 "nbformat_minor": 5
}
