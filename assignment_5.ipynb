{
 "cells": [
  {
   "cell_type": "raw",
   "id": "72b570a4",
   "metadata": {},
   "source": [
    "1. What does an empty dictionary's code look like?"
   ]
  },
  {
   "cell_type": "code",
   "execution_count": 2,
   "id": "1c5832a7",
   "metadata": {},
   "outputs": [
    {
     "name": "stdout",
     "output_type": "stream",
     "text": [
      "{}\n"
     ]
    }
   ],
   "source": [
    "#Answer.\n",
    "   #  to empty the dictionary we can use a function 'dict()' , here is a code to empty dictionary .\n",
    "     \n",
    "fruits_dict = {'grapes': 5, 'kiwi': 2, 'banana': 6, 'cherry': 8, 'mangoes': 7}\n",
    "\n",
    "fruits_dict = dict() # the code t empty dictionary\n",
    "\n",
    "print(fruits_dict)"
   ]
  },
  {
   "cell_type": "raw",
   "id": "7c277c63",
   "metadata": {},
   "source": [
    "2. What is the value of a dictionary value with the key 'foo' and the value 42?"
   ]
  },
  {
   "cell_type": "code",
   "execution_count": 5,
   "id": "01a5610e",
   "metadata": {},
   "outputs": [
    {
     "name": "stdout",
     "output_type": "stream",
     "text": [
      "the value of dictionary is; dict_values([42])\n"
     ]
    }
   ],
   "source": [
    "#Answer.\n",
    "  #  in a dictionary the the key is 'foo' and the value is 42 , so the value of dictionary will be 42 here is how\n",
    "    \n",
    "dict1 = {'foo': 42}\n",
    "value = dict1.values()\n",
    "print('the value of dictionary is;',value)"
   ]
  },
  {
   "cell_type": "raw",
   "id": "50845364",
   "metadata": {},
   "source": [
    "3. What is the most significant distinction between a dictionary and a list?"
   ]
  },
  {
   "cell_type": "raw",
   "id": "4412ec63",
   "metadata": {},
   "source": [
    "Answer. \n",
    "     there are 3 significant difference between list and dictionary,\n",
    "\n",
    "list;\n",
    "1. lists are the collection of oredered items. lists can anythin like strings, floats and integer.\n",
    "2. we can access the items from the list through index.\n",
    "3. when we have ordered items ,list is the most relaible data type because we can change, remove and add duplicate items\n",
    "example,\n",
    "my_list = ['apple', 'banana', 'cherry']\n",
    "\n",
    "dictionary;\n",
    "1. dictionaries are collection of unordered items. it have items with there different types of values.\n",
    "2.if we want to access items in dictionary we have to call keys and values for that perticular item, we can not access them directly through indexing like lists.\n",
    "3. if we have unodered items with keys and their values we can use dictionaries.dictionaries can not have duplicate items like lists.\n",
    "example,\n",
    "my_dict = {'name': 'John', 'age': 30, 'city': 'New York'}"
   ]
  },
  {
   "cell_type": "raw",
   "id": "03c4b733",
   "metadata": {},
   "source": [
    "4. What happens if you try to access spam['foo'] if spam is {'bar': 100}?"
   ]
  },
  {
   "cell_type": "raw",
   "id": "ed50c37d",
   "metadata": {},
   "source": [
    "Answer.\n",
    "   if i try to access spam['foo'] in dictionary spam = {'bar':100} it will show a key error because that key doesn't exist in the dicionary"
   ]
  },
  {
   "cell_type": "raw",
   "id": "44f0637d",
   "metadata": {},
   "source": [
    "5. If a dictionary is stored in spam, what is the difference between the expressions 'cat' in spam and 'cat' in spam.keys()?"
   ]
  },
  {
   "cell_type": "raw",
   "id": "264f803e",
   "metadata": {},
   "source": [
    "Answer.\n",
    "   the only difference between expression 'cat' in spam and 'cat' in spam.keys() is , 'cat'in spam.keys() code have used a builtin function spam.keys() and 'cat' in spam didn't used any function. but the results will be same ."
   ]
  },
  {
   "cell_type": "markdown",
   "id": "7d87a673",
   "metadata": {},
   "source": [
    "# question 6 and question 5 is same maybe question 6 is written by mistake."
   ]
  },
  {
   "cell_type": "code",
   "execution_count": null,
   "id": "f7798db9",
   "metadata": {},
   "outputs": [],
   "source": [
    "7. What is a shortcut for the following code?\n",
    "if 'color' not in spam:\n",
    "spam['color'] = 'black'"
   ]
  },
  {
   "cell_type": "raw",
   "id": "a019c15e",
   "metadata": {},
   "source": [
    "Answer.\n",
    "   spam['color'] = 'black' is the shortest method to add the value."
   ]
  },
  {
   "cell_type": "raw",
   "id": "ba6305ff",
   "metadata": {},
   "source": [
    "8. How do you \"pretty print\" dictionary values using which module and function?"
   ]
  },
  {
   "cell_type": "code",
   "execution_count": 6,
   "id": "9786b6e3",
   "metadata": {},
   "outputs": [
    {
     "name": "stdout",
     "output_type": "stream",
     "text": [
      "{'address': {'city': 'New York', 'country': 'USA', 'street': '123 Main St'},\n",
      " 'age': 30,\n",
      " 'name': 'John'}\n"
     ]
    }
   ],
   "source": [
    "#Answer.\n",
    "    # we would use 'pprint' module to read  more easily 'pretty print' ,here is a code;\n",
    "    \n",
    "from pprint import pprint\n",
    "\n",
    "my_dict = {'name': 'John', 'age': 30, 'address': {'street': '123 Main St', 'city': 'New York', 'country': 'USA'}}\n",
    "\n",
    "pprint(my_dict)  # it is a function we would use\n"
   ]
  },
  {
   "cell_type": "code",
   "execution_count": null,
   "id": "36e566aa",
   "metadata": {},
   "outputs": [],
   "source": []
  }
 ],
 "metadata": {
  "kernelspec": {
   "display_name": "Python 3 (ipykernel)",
   "language": "python",
   "name": "python3"
  },
  "language_info": {
   "codemirror_mode": {
    "name": "ipython",
    "version": 3
   },
   "file_extension": ".py",
   "mimetype": "text/x-python",
   "name": "python",
   "nbconvert_exporter": "python",
   "pygments_lexer": "ipython3",
   "version": "3.10.6"
  }
 },
 "nbformat": 4,
 "nbformat_minor": 5
}
