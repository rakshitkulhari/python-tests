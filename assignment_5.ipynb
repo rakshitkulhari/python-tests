{
 "cells": [
  {
   "cell_type": "markdown",
   "id": "614b0ba4",
   "metadata": {},
   "source": [
    "1. What does an empty dictionary's code look like?"
   ]
  },
  {
   "cell_type": "code",
   "execution_count": 1,
   "id": "be11b84f",
   "metadata": {},
   "outputs": [],
   "source": [
    "#answer \n",
    "     #the code of empty dictonary look like this :\n",
    "        \n",
    "empty_dict = dict()"
   ]
  },
  {
   "cell_type": "markdown",
   "id": "551aede6",
   "metadata": {},
   "source": [
    "2. What is the value of a dictionary value with the key 'foo' and the value 42?"
   ]
  },
  {
   "cell_type": "code",
   "execution_count": null,
   "id": "fa7cd665",
   "metadata": {},
   "outputs": [],
   "source": [
    "#answer \n",
    "    #the value of a dictonary will be :\n",
    "    \n",
    "my_dict = {'foo': 42}\n",
    "value_of_foo = my_dict['foo']\n",
    "print(value_of_foo)  # This will print 42"
   ]
  },
  {
   "cell_type": "markdown",
   "id": "2b91b118",
   "metadata": {},
   "source": [
    "3. What is the most significant distinction between a dictionary and a list?"
   ]
  },
  {
   "cell_type": "markdown",
   "id": "f180c625",
   "metadata": {},
   "source": [
    "answer.\n",
    "The most significant distinction between a dictionary and a list in Python lies in how they store and access data:\n",
    "\n",
    "1. **Storage of Data**:\n",
    "   - **Dictionary**: Stores data as key-value pairs, where each value is associated with a unique key. Keys are used to access the corresponding values, and they must be immutable objects (e.g., strings, integers, tuples).\n",
    "   - **List**: Stores data as an ordered collection of items. Each item in the list has an index, starting from 0, which is used to access the elements. Lists can contain duplicate elements, and the elements are ordered and mutable.\n",
    "\n",
    "2. **Accessing Data**:\n",
    "   - **Dictionary**: Data is accessed using keys. Keys provide an efficient way to retrieve values, even for large collections, as they serve as direct pointers to the corresponding values.\n",
    "   - **List**: Data is accessed using indices. Elements are accessed sequentially based on their position in the list. While this allows for easy iteration through elements, searching for a specific item by value can be less efficient compared to dictionaries.\n",
    "\n",
    "In summary, dictionaries are optimized for fast lookups based on keys, while lists are optimized for sequential access and manipulation of ordered collections. Choosing between them depends on the specific requirements of the data and the operations you need to perform."
   ]
  },
  {
   "cell_type": "markdown",
   "id": "e3ebff96",
   "metadata": {},
   "source": [
    "4. What happens if you try to access spam['foo'] if spam is {'bar': 100}?"
   ]
  },
  {
   "cell_type": "code",
   "execution_count": null,
   "id": "29d27ef5",
   "metadata": {},
   "outputs": [],
   "source": [
    "#Answer.\n",
    "   #if i try to access spam['foo'] in dictionary spam = {'bar':100} it will show a key error because that key doesn't exist in the dicionary. here is the code:\n",
    "   \n",
    "spam = {'bar': 100}\n",
    "value_of_foo = spam['foo']  # This line will raise a KeyError\n",
    "   \n",
    "   "
   ]
  },
  {
   "cell_type": "markdown",
   "id": "dad5539b",
   "metadata": {},
   "source": [
    "5. If a dictionary is stored in spam, what is the difference between the expressions 'cat' in spam and 'cat' in spam.keys()?"
   ]
  },
  {
   "cell_type": "markdown",
   "id": "53d74fc3",
   "metadata": {},
   "source": [
    "answer.\n",
    "      the expressions 'cat' in spam and 'cat' in spam.keys() both check whether the key 'cat' is present in the dictionary spam. However, they differ in their implementation details and performance implications:\n",
    "\n",
    "    'cat' in spam: This expression directly checks whether the key 'cat' exists in the dictionary spam. It's a direct membership test against the keys of the dictionary. If 'cat' is a key in spam, it returns True; otherwise, it returns False.\n",
    "\n",
    "    'cat' in spam.keys(): This expression first retrieves all the keys of the dictionary spam using the keys() method and then checks whether 'cat' is present in that list of keys. While conceptually similar to the first expression, this method involves the additional step of generating a list of keys before performing the membership test."
   ]
  },
  {
   "cell_type": "markdown",
   "id": "fe250c55",
   "metadata": {},
   "source": [
    "6. If a dictionary is stored in spam, what is the difference between the expressions 'cat' in spam and 'cat' in spam.keys()?"
   ]
  },
  {
   "cell_type": "markdown",
   "id": "7ff5a699",
   "metadata": {},
   "source": [
    "answer.\n",
    " the expressions 'cat' in spam and 'cat' in spam.keys() both check whether the key 'cat' is present in the dictionary spam. However, they differ in their implementation details and performance implications:\n",
    "\n",
    "    'cat' in spam: This expression directly checks whether the key 'cat' exists in the dictionary spam. It's a direct membership test against the keys of the dictionary. If 'cat' is a key in spam, it returns True; otherwise, it returns False.\n",
    "\n",
    "    'cat' in spam.keys(): This expression first retrieves all the keys of the dictionary spam using the keys() method and then checks whether 'cat' is present in that list of keys. While conceptually similar to the first expression, this method involves the additional step of generating a list of keys before performing the membership test.\n",
    "\n",
    "In terms of efficiency, the first expression ('cat' in spam) is generally more efficient because it directly checks for the key's presence in the dictionary without the need to generate a separate list of keys. However, for small dictionaries, the performance difference might be negligible.\n"
   ]
  },
  {
   "cell_type": "markdown",
   "id": "db9821c2",
   "metadata": {},
   "source": [
    "7. What is a shortcut for the following code?\n",
    "if 'color' not in spam:\n",
    "spam['color'] = 'black'"
   ]
  },
  {
   "cell_type": "code",
   "execution_count": null,
   "id": "c0da737f",
   "metadata": {},
   "outputs": [],
   "source": [
    "#answer\n",
    " #the shortest method for the code is:\n",
    " \n",
    "spam['color'] = spam.get('color', 'black')\n",
    "\n"
   ]
  },
  {
   "cell_type": "markdown",
   "id": "dae5446e",
   "metadata": {},
   "source": [
    "8. How do you \"pretty print\" dictionary values using which module and function?"
   ]
  },
  {
   "cell_type": "markdown",
   "id": "6de82e54",
   "metadata": {},
   "source": [
    "#answer. \n",
    "To \"pretty print\" dictionary values in Python, you can use the pprint module and its pprint() function. Here's how you can do it:"
   ]
  },
  {
   "cell_type": "code",
   "execution_count": 3,
   "id": "2f19ddd5",
   "metadata": {},
   "outputs": [
    {
     "name": "stdout",
     "output_type": "stream",
     "text": [
      "{'key1': 'value1', 'key2': 'value2', 'key3': 'value3'}\n"
     ]
    }
   ],
   "source": [
    "from pprint import pprint\n",
    "\n",
    "my_dict = {'key1': 'value1', 'key2': 'value2', 'key3': 'value3'}\n",
    "\n",
    "pprint(my_dict)\n"
   ]
  },
  {
   "cell_type": "code",
   "execution_count": null,
   "id": "6f761678",
   "metadata": {},
   "outputs": [],
   "source": []
  }
 ],
 "metadata": {
  "kernelspec": {
   "display_name": "Python 3 (ipykernel)",
   "language": "python",
   "name": "python3"
  },
  "language_info": {
   "codemirror_mode": {
    "name": "ipython",
    "version": 3
   },
   "file_extension": ".py",
   "mimetype": "text/x-python",
   "name": "python",
   "nbconvert_exporter": "python",
   "pygments_lexer": "ipython3",
   "version": "3.12.3"
  }
 },
 "nbformat": 4,
 "nbformat_minor": 5
}
